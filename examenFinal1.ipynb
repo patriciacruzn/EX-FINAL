{
  "nbformat": 4,
  "nbformat_minor": 0,
  "metadata": {
    "colab": {
      "name": "examenFinal1.ipynb",
      "provenance": [],
      "collapsed_sections": []
    },
    "kernelspec": {
      "name": "python3",
      "display_name": "Python 3"
    },
    "language_info": {
      "name": "python"
    }
  },
  "cells": [
    {
      "cell_type": "markdown",
      "metadata": {
        "id": "aoxIf-e-Io3i"
      },
      "source": [
        "**Descripcion del dataset**\n",
        "**Contexto:**\n",
        "\n",
        "En los Estados Unidos, las mordeduras de animales suelen denunciarse a las fuerzas del orden (como el control de animales). La principal preocupación de una mordedura de animal es que el animal pueda tener rabia. Este conjunto de datos incluye información sobre más de 9.000 mordeduras de animales ocurridas cerca de Louisville, Kentucky, entre 1985 y 2017, e incluye información sobre si el animal fue puesto en cuarentena después de la mordedura y si ese animal tenía rabia.\n",
        "\n",
        "**Contenido:**\n",
        "\n",
        "Atributos de los incidentes de mordeduras de animales reportados e investigados por el Departamento de Salud Pública y Bienestar de Louisville. Se han eliminado los datos personales e identificativos. Este conjunto de datos es un único .csv con los siguientes campos.\n",
        "\n",
        "**bite_date:** La fecha en que se produjo la mordedura\n",
        "\n",
        "**SpeciesIDDesc:** La especie del animal que realizó la mordedura\n",
        "\n",
        "**BreedIDDesc:** Raza (si se conoce)\n",
        "\n",
        "**GenderIDDesc:** Género (del animal)\n",
        "\n",
        "**color:** color del animal\n",
        "\n",
        "**vaccination_yrs:** cuántos años han pasado desde la última vacunación\n",
        "\n",
        "**vaccination_date:** la fecha de la última vacunación\n",
        "\n",
        "**victim_zip:** el código postal de la víctima\n",
        "\n",
        "**AdvIssuedYNDesc:** si se emitió un consejo\n",
        "\n",
        "**WhereBittenIDDesc:** en qué parte del cuerpo fue mordida la víctima\n",
        "\n",
        "**quarantine_date:** si el animal fue puesto en cuarentena\n",
        "\n",
        "**DispositionIDDesc:** si el animal fue liberado de la cuarentena\n",
        "\n",
        "**headentdate:** la fecha en que la cabeza del animal fue enviada al laboratorio\n",
        "\n",
        "**release_date:** la fecha en que el animal fue liberado\n",
        "\n",
        "**ResultsIDDesc:** resultados de las pruebas de laboratorio (para la rabia)\n",
        "\n",
        "**Reconocimientos:**\n",
        "\n",
        "Atributos de los incidentes de mordeduras de animales notificados e investigados por el Departamento de Salud Pública y Bienestar de Louisville. Estos datos son de dominio público.\n",
        "\n",
        "**Inspiración:**\n",
        "\n",
        "¿Qué animales son más propensos a morder a los humanos?\n",
        "\n",
        "¿Hay algunas razas de perros más propensas a morder?\n",
        "\n",
        "¿Qué factores están más relacionados con una identificación positiva de rabia?\n",
        "\n"
      ]
    },
    {
      "cell_type": "code",
      "metadata": {
        "id": "1dWZ4qaOLHB1"
      },
      "source": [
        "import numpy as np\n",
        "import pandas as pd\n",
        "import seaborn as sns\n",
        "import matplotlib.pyplot as plt\n",
        "import matplotlib.patches as patches\n",
        "from sklearn.impute import SimpleImputer\n",
        "from sklearn import preprocessing\n",
        "from sklearn.preprocessing import LabelEncoder, MinMaxScaler\n",
        "from sklearn.preprocessing import StandardScaler\n",
        "from sklearn.model_selection import StratifiedShuffleSplit, train_test_split, StratifiedKFold,ShuffleSplit\n",
        "from sklearn.neural_network import MLPClassifier\n",
        "from sklearn.metrics import confusion_matrix, plot_confusion_matrix\n",
        "from sklearn.tree import DecisionTreeClassifier"
      ],
      "execution_count": 1547,
      "outputs": []
    },
    {
      "cell_type": "markdown",
      "metadata": {
        "id": "rRr-_CNlJ74k"
      },
      "source": [
        "**LECTURA DE LOS DATOS**"
      ]
    },
    {
      "cell_type": "code",
      "metadata": {
        "colab": {
          "base_uri": "https://localhost:8080/",
          "height": 394
        },
        "id": "cGfRcifJyKXF",
        "outputId": "bcd527d8-6e6b-4194-d478-2b327308a1b4"
      },
      "source": [
        "archivo=pd.read_csv('/content/drive/MyDrive/EXAMEN FINAL/Health_AnimalBites.csv')\n",
        "archivo.head()"
      ],
      "execution_count": 1548,
      "outputs": [
        {
          "output_type": "execute_result",
          "data": {
            "text/html": [
              "<div>\n",
              "<style scoped>\n",
              "    .dataframe tbody tr th:only-of-type {\n",
              "        vertical-align: middle;\n",
              "    }\n",
              "\n",
              "    .dataframe tbody tr th {\n",
              "        vertical-align: top;\n",
              "    }\n",
              "\n",
              "    .dataframe thead th {\n",
              "        text-align: right;\n",
              "    }\n",
              "</style>\n",
              "<table border=\"1\" class=\"dataframe\">\n",
              "  <thead>\n",
              "    <tr style=\"text-align: right;\">\n",
              "      <th></th>\n",
              "      <th>bite_date</th>\n",
              "      <th>SpeciesIDDesc</th>\n",
              "      <th>BreedIDDesc</th>\n",
              "      <th>GenderIDDesc</th>\n",
              "      <th>color</th>\n",
              "      <th>vaccination_yrs</th>\n",
              "      <th>vaccination_date</th>\n",
              "      <th>victim_zip</th>\n",
              "      <th>AdvIssuedYNDesc</th>\n",
              "      <th>WhereBittenIDDesc</th>\n",
              "      <th>quarantine_date</th>\n",
              "      <th>DispositionIDDesc</th>\n",
              "      <th>head_sent_date</th>\n",
              "      <th>release_date</th>\n",
              "      <th>ResultsIDDesc</th>\n",
              "    </tr>\n",
              "  </thead>\n",
              "  <tbody>\n",
              "    <tr>\n",
              "      <th>0</th>\n",
              "      <td>1985-05-05 00:00:00</td>\n",
              "      <td>DOG</td>\n",
              "      <td>NaN</td>\n",
              "      <td>FEMALE</td>\n",
              "      <td>LIG. BROWN</td>\n",
              "      <td>1.0</td>\n",
              "      <td>1985-06-20 00:00:00</td>\n",
              "      <td>40229</td>\n",
              "      <td>NO</td>\n",
              "      <td>BODY</td>\n",
              "      <td>1985-05-05 00:00:00</td>\n",
              "      <td>UNKNOWN</td>\n",
              "      <td>NaN</td>\n",
              "      <td>NaN</td>\n",
              "      <td>UNKNOWN</td>\n",
              "    </tr>\n",
              "    <tr>\n",
              "      <th>1</th>\n",
              "      <td>1986-02-12 00:00:00</td>\n",
              "      <td>DOG</td>\n",
              "      <td>NaN</td>\n",
              "      <td>UNKNOWN</td>\n",
              "      <td>BRO &amp; BLA</td>\n",
              "      <td>NaN</td>\n",
              "      <td>NaN</td>\n",
              "      <td>40218</td>\n",
              "      <td>NO</td>\n",
              "      <td>BODY</td>\n",
              "      <td>1986-02-12 00:00:00</td>\n",
              "      <td>UNKNOWN</td>\n",
              "      <td>NaN</td>\n",
              "      <td>NaN</td>\n",
              "      <td>UNKNOWN</td>\n",
              "    </tr>\n",
              "    <tr>\n",
              "      <th>2</th>\n",
              "      <td>1987-05-07 00:00:00</td>\n",
              "      <td>DOG</td>\n",
              "      <td>NaN</td>\n",
              "      <td>UNKNOWN</td>\n",
              "      <td>NaN</td>\n",
              "      <td>NaN</td>\n",
              "      <td>NaN</td>\n",
              "      <td>40219</td>\n",
              "      <td>NO</td>\n",
              "      <td>BODY</td>\n",
              "      <td>1990-05-07 00:00:00</td>\n",
              "      <td>UNKNOWN</td>\n",
              "      <td>NaN</td>\n",
              "      <td>NaN</td>\n",
              "      <td>UNKNOWN</td>\n",
              "    </tr>\n",
              "    <tr>\n",
              "      <th>3</th>\n",
              "      <td>1988-10-02 00:00:00</td>\n",
              "      <td>DOG</td>\n",
              "      <td>NaN</td>\n",
              "      <td>MALE</td>\n",
              "      <td>BLA &amp; BRO</td>\n",
              "      <td>NaN</td>\n",
              "      <td>NaN</td>\n",
              "      <td>NaN</td>\n",
              "      <td>NO</td>\n",
              "      <td>BODY</td>\n",
              "      <td>1990-10-02 00:00:00</td>\n",
              "      <td>UNKNOWN</td>\n",
              "      <td>NaN</td>\n",
              "      <td>NaN</td>\n",
              "      <td>UNKNOWN</td>\n",
              "    </tr>\n",
              "    <tr>\n",
              "      <th>4</th>\n",
              "      <td>1989-08-29 00:00:00</td>\n",
              "      <td>DOG</td>\n",
              "      <td>NaN</td>\n",
              "      <td>FEMALE</td>\n",
              "      <td>BLK-WHT</td>\n",
              "      <td>NaN</td>\n",
              "      <td>NaN</td>\n",
              "      <td>NaN</td>\n",
              "      <td>NO</td>\n",
              "      <td>BODY</td>\n",
              "      <td>NaN</td>\n",
              "      <td>UNKNOWN</td>\n",
              "      <td>NaN</td>\n",
              "      <td>NaN</td>\n",
              "      <td>UNKNOWN</td>\n",
              "    </tr>\n",
              "  </tbody>\n",
              "</table>\n",
              "</div>"
            ],
            "text/plain": [
              "             bite_date SpeciesIDDesc  ... release_date ResultsIDDesc\n",
              "0  1985-05-05 00:00:00           DOG  ...          NaN       UNKNOWN\n",
              "1  1986-02-12 00:00:00           DOG  ...          NaN       UNKNOWN\n",
              "2  1987-05-07 00:00:00           DOG  ...          NaN       UNKNOWN\n",
              "3  1988-10-02 00:00:00           DOG  ...          NaN       UNKNOWN\n",
              "4  1989-08-29 00:00:00           DOG  ...          NaN       UNKNOWN\n",
              "\n",
              "[5 rows x 15 columns]"
            ]
          },
          "metadata": {
            "tags": []
          },
          "execution_count": 1548
        }
      ]
    },
    {
      "cell_type": "markdown",
      "metadata": {
        "id": "5KoTfcXsQkJD"
      },
      "source": [
        "**Muestra los estadisticos mas significativos del dataset**"
      ]
    },
    {
      "cell_type": "code",
      "metadata": {
        "colab": {
          "base_uri": "https://localhost:8080/",
          "height": 297
        },
        "id": "Y4mI1AvGL909",
        "outputId": "2a94cffe-c2fe-4765-e8d3-873d844f81c4"
      },
      "source": [
        "archivo.describe()"
      ],
      "execution_count": 1549,
      "outputs": [
        {
          "output_type": "execute_result",
          "data": {
            "text/html": [
              "<div>\n",
              "<style scoped>\n",
              "    .dataframe tbody tr th:only-of-type {\n",
              "        vertical-align: middle;\n",
              "    }\n",
              "\n",
              "    .dataframe tbody tr th {\n",
              "        vertical-align: top;\n",
              "    }\n",
              "\n",
              "    .dataframe thead th {\n",
              "        text-align: right;\n",
              "    }\n",
              "</style>\n",
              "<table border=\"1\" class=\"dataframe\">\n",
              "  <thead>\n",
              "    <tr style=\"text-align: right;\">\n",
              "      <th></th>\n",
              "      <th>vaccination_yrs</th>\n",
              "    </tr>\n",
              "  </thead>\n",
              "  <tbody>\n",
              "    <tr>\n",
              "      <th>count</th>\n",
              "      <td>3738.000000</td>\n",
              "    </tr>\n",
              "    <tr>\n",
              "      <th>mean</th>\n",
              "      <td>1.452113</td>\n",
              "    </tr>\n",
              "    <tr>\n",
              "      <th>std</th>\n",
              "      <td>0.848416</td>\n",
              "    </tr>\n",
              "    <tr>\n",
              "      <th>min</th>\n",
              "      <td>1.000000</td>\n",
              "    </tr>\n",
              "    <tr>\n",
              "      <th>25%</th>\n",
              "      <td>1.000000</td>\n",
              "    </tr>\n",
              "    <tr>\n",
              "      <th>50%</th>\n",
              "      <td>1.000000</td>\n",
              "    </tr>\n",
              "    <tr>\n",
              "      <th>75%</th>\n",
              "      <td>1.000000</td>\n",
              "    </tr>\n",
              "    <tr>\n",
              "      <th>max</th>\n",
              "      <td>11.000000</td>\n",
              "    </tr>\n",
              "  </tbody>\n",
              "</table>\n",
              "</div>"
            ],
            "text/plain": [
              "       vaccination_yrs\n",
              "count      3738.000000\n",
              "mean          1.452113\n",
              "std           0.848416\n",
              "min           1.000000\n",
              "25%           1.000000\n",
              "50%           1.000000\n",
              "75%           1.000000\n",
              "max          11.000000"
            ]
          },
          "metadata": {
            "tags": []
          },
          "execution_count": 1549
        }
      ]
    },
    {
      "cell_type": "markdown",
      "metadata": {
        "id": "MenkyCsBQfs7"
      },
      "source": [
        "**PREPROCESAMIENTO**"
      ]
    },
    {
      "cell_type": "markdown",
      "metadata": {
        "id": "Xx81cPENUfDH"
      },
      "source": [
        "**Informacion de los datos**"
      ]
    },
    {
      "cell_type": "code",
      "metadata": {
        "colab": {
          "base_uri": "https://localhost:8080/"
        },
        "id": "8C8FC8WjQfMz",
        "outputId": "dd16a976-7721-45c4-f250-4621fe4fd91c"
      },
      "source": [
        "archivo.info()"
      ],
      "execution_count": 1550,
      "outputs": [
        {
          "output_type": "stream",
          "text": [
            "<class 'pandas.core.frame.DataFrame'>\n",
            "RangeIndex: 9003 entries, 0 to 9002\n",
            "Data columns (total 15 columns):\n",
            " #   Column             Non-Null Count  Dtype  \n",
            "---  ------             --------------  -----  \n",
            " 0   bite_date          8686 non-null   object \n",
            " 1   SpeciesIDDesc      8885 non-null   object \n",
            " 2   BreedIDDesc        3759 non-null   object \n",
            " 3   GenderIDDesc       6477 non-null   object \n",
            " 4   color              6426 non-null   object \n",
            " 5   vaccination_yrs    3738 non-null   float64\n",
            " 6   vaccination_date   4115 non-null   object \n",
            " 7   victim_zip         7165 non-null   object \n",
            " 8   AdvIssuedYNDesc    2565 non-null   object \n",
            " 9   WhereBittenIDDesc  8387 non-null   object \n",
            " 10  quarantine_date    2020 non-null   object \n",
            " 11  DispositionIDDesc  1535 non-null   object \n",
            " 12  head_sent_date     395 non-null    object \n",
            " 13  release_date       1445 non-null   object \n",
            " 14  ResultsIDDesc      1543 non-null   object \n",
            "dtypes: float64(1), object(14)\n",
            "memory usage: 1.0+ MB\n"
          ],
          "name": "stdout"
        }
      ]
    },
    {
      "cell_type": "markdown",
      "metadata": {
        "id": "BMCF9U-tL9N2"
      },
      "source": [
        "**Datos nulos de las columnas**"
      ]
    },
    {
      "cell_type": "code",
      "metadata": {
        "colab": {
          "base_uri": "https://localhost:8080/"
        },
        "id": "wuuf5-kYWFDx",
        "outputId": "bc055a1c-501b-4071-aabb-ff7bcc4082d1"
      },
      "source": [
        "archivo.isnull().sum()"
      ],
      "execution_count": 1551,
      "outputs": [
        {
          "output_type": "execute_result",
          "data": {
            "text/plain": [
              "bite_date             317\n",
              "SpeciesIDDesc         118\n",
              "BreedIDDesc          5244\n",
              "GenderIDDesc         2526\n",
              "color                2577\n",
              "vaccination_yrs      5265\n",
              "vaccination_date     4888\n",
              "victim_zip           1838\n",
              "AdvIssuedYNDesc      6438\n",
              "WhereBittenIDDesc     616\n",
              "quarantine_date      6983\n",
              "DispositionIDDesc    7468\n",
              "head_sent_date       8608\n",
              "release_date         7558\n",
              "ResultsIDDesc        7460\n",
              "dtype: int64"
            ]
          },
          "metadata": {
            "tags": []
          },
          "execution_count": 1551
        }
      ]
    },
    {
      "cell_type": "markdown",
      "metadata": {
        "id": "tAkK3FqTduwa"
      },
      "source": [
        "**Borrar lo nulos de la columna SpeciesIDDesc par un mejor prediccion**\n",
        "\n"
      ]
    },
    {
      "cell_type": "code",
      "metadata": {
        "colab": {
          "base_uri": "https://localhost:8080/"
        },
        "id": "8dDL9mH4aN3X",
        "outputId": "48517a71-f26f-4502-8188-99c333de21ef"
      },
      "source": [
        "archivo=archivo.dropna(axis=0,subset=['SpeciesIDDesc'])\n",
        "archivo.isnull().sum()"
      ],
      "execution_count": 1552,
      "outputs": [
        {
          "output_type": "execute_result",
          "data": {
            "text/plain": [
              "bite_date             300\n",
              "SpeciesIDDesc           0\n",
              "BreedIDDesc          5127\n",
              "GenderIDDesc         2413\n",
              "color                2464\n",
              "vaccination_yrs      5148\n",
              "vaccination_date     4772\n",
              "victim_zip           1788\n",
              "AdvIssuedYNDesc      6327\n",
              "WhereBittenIDDesc     575\n",
              "quarantine_date      6865\n",
              "DispositionIDDesc    7350\n",
              "head_sent_date       8495\n",
              "release_date         7442\n",
              "ResultsIDDesc        7345\n",
              "dtype: int64"
            ]
          },
          "metadata": {
            "tags": []
          },
          "execution_count": 1552
        }
      ]
    },
    {
      "cell_type": "code",
      "metadata": {
        "colab": {
          "base_uri": "https://localhost:8080/",
          "height": 1000
        },
        "id": "pQgjIMkkfnCE",
        "outputId": "3ee49da7-75b4-4dcf-a786-e70b8c0a801b"
      },
      "source": [
        "#archivo.shape\n",
        "display(archivo)\n",
        "#tipo de la variable\n",
        "archivo.info()"
      ],
      "execution_count": 1553,
      "outputs": [
        {
          "output_type": "display_data",
          "data": {
            "text/html": [
              "<div>\n",
              "<style scoped>\n",
              "    .dataframe tbody tr th:only-of-type {\n",
              "        vertical-align: middle;\n",
              "    }\n",
              "\n",
              "    .dataframe tbody tr th {\n",
              "        vertical-align: top;\n",
              "    }\n",
              "\n",
              "    .dataframe thead th {\n",
              "        text-align: right;\n",
              "    }\n",
              "</style>\n",
              "<table border=\"1\" class=\"dataframe\">\n",
              "  <thead>\n",
              "    <tr style=\"text-align: right;\">\n",
              "      <th></th>\n",
              "      <th>bite_date</th>\n",
              "      <th>SpeciesIDDesc</th>\n",
              "      <th>BreedIDDesc</th>\n",
              "      <th>GenderIDDesc</th>\n",
              "      <th>color</th>\n",
              "      <th>vaccination_yrs</th>\n",
              "      <th>vaccination_date</th>\n",
              "      <th>victim_zip</th>\n",
              "      <th>AdvIssuedYNDesc</th>\n",
              "      <th>WhereBittenIDDesc</th>\n",
              "      <th>quarantine_date</th>\n",
              "      <th>DispositionIDDesc</th>\n",
              "      <th>head_sent_date</th>\n",
              "      <th>release_date</th>\n",
              "      <th>ResultsIDDesc</th>\n",
              "    </tr>\n",
              "  </thead>\n",
              "  <tbody>\n",
              "    <tr>\n",
              "      <th>0</th>\n",
              "      <td>1985-05-05 00:00:00</td>\n",
              "      <td>DOG</td>\n",
              "      <td>NaN</td>\n",
              "      <td>FEMALE</td>\n",
              "      <td>LIG. BROWN</td>\n",
              "      <td>1.0</td>\n",
              "      <td>1985-06-20 00:00:00</td>\n",
              "      <td>40229</td>\n",
              "      <td>NO</td>\n",
              "      <td>BODY</td>\n",
              "      <td>1985-05-05 00:00:00</td>\n",
              "      <td>UNKNOWN</td>\n",
              "      <td>NaN</td>\n",
              "      <td>NaN</td>\n",
              "      <td>UNKNOWN</td>\n",
              "    </tr>\n",
              "    <tr>\n",
              "      <th>1</th>\n",
              "      <td>1986-02-12 00:00:00</td>\n",
              "      <td>DOG</td>\n",
              "      <td>NaN</td>\n",
              "      <td>UNKNOWN</td>\n",
              "      <td>BRO &amp; BLA</td>\n",
              "      <td>NaN</td>\n",
              "      <td>NaN</td>\n",
              "      <td>40218</td>\n",
              "      <td>NO</td>\n",
              "      <td>BODY</td>\n",
              "      <td>1986-02-12 00:00:00</td>\n",
              "      <td>UNKNOWN</td>\n",
              "      <td>NaN</td>\n",
              "      <td>NaN</td>\n",
              "      <td>UNKNOWN</td>\n",
              "    </tr>\n",
              "    <tr>\n",
              "      <th>2</th>\n",
              "      <td>1987-05-07 00:00:00</td>\n",
              "      <td>DOG</td>\n",
              "      <td>NaN</td>\n",
              "      <td>UNKNOWN</td>\n",
              "      <td>NaN</td>\n",
              "      <td>NaN</td>\n",
              "      <td>NaN</td>\n",
              "      <td>40219</td>\n",
              "      <td>NO</td>\n",
              "      <td>BODY</td>\n",
              "      <td>1990-05-07 00:00:00</td>\n",
              "      <td>UNKNOWN</td>\n",
              "      <td>NaN</td>\n",
              "      <td>NaN</td>\n",
              "      <td>UNKNOWN</td>\n",
              "    </tr>\n",
              "    <tr>\n",
              "      <th>3</th>\n",
              "      <td>1988-10-02 00:00:00</td>\n",
              "      <td>DOG</td>\n",
              "      <td>NaN</td>\n",
              "      <td>MALE</td>\n",
              "      <td>BLA &amp; BRO</td>\n",
              "      <td>NaN</td>\n",
              "      <td>NaN</td>\n",
              "      <td>NaN</td>\n",
              "      <td>NO</td>\n",
              "      <td>BODY</td>\n",
              "      <td>1990-10-02 00:00:00</td>\n",
              "      <td>UNKNOWN</td>\n",
              "      <td>NaN</td>\n",
              "      <td>NaN</td>\n",
              "      <td>UNKNOWN</td>\n",
              "    </tr>\n",
              "    <tr>\n",
              "      <th>4</th>\n",
              "      <td>1989-08-29 00:00:00</td>\n",
              "      <td>DOG</td>\n",
              "      <td>NaN</td>\n",
              "      <td>FEMALE</td>\n",
              "      <td>BLK-WHT</td>\n",
              "      <td>NaN</td>\n",
              "      <td>NaN</td>\n",
              "      <td>NaN</td>\n",
              "      <td>NO</td>\n",
              "      <td>BODY</td>\n",
              "      <td>NaN</td>\n",
              "      <td>UNKNOWN</td>\n",
              "      <td>NaN</td>\n",
              "      <td>NaN</td>\n",
              "      <td>UNKNOWN</td>\n",
              "    </tr>\n",
              "    <tr>\n",
              "      <th>...</th>\n",
              "      <td>...</td>\n",
              "      <td>...</td>\n",
              "      <td>...</td>\n",
              "      <td>...</td>\n",
              "      <td>...</td>\n",
              "      <td>...</td>\n",
              "      <td>...</td>\n",
              "      <td>...</td>\n",
              "      <td>...</td>\n",
              "      <td>...</td>\n",
              "      <td>...</td>\n",
              "      <td>...</td>\n",
              "      <td>...</td>\n",
              "      <td>...</td>\n",
              "      <td>...</td>\n",
              "    </tr>\n",
              "    <tr>\n",
              "      <th>8998</th>\n",
              "      <td>2017-09-05 00:00:00</td>\n",
              "      <td>DOG</td>\n",
              "      <td>NaN</td>\n",
              "      <td>NaN</td>\n",
              "      <td>NaN</td>\n",
              "      <td>NaN</td>\n",
              "      <td>NaN</td>\n",
              "      <td>40243</td>\n",
              "      <td>NaN</td>\n",
              "      <td>UNKNOWN</td>\n",
              "      <td>NaN</td>\n",
              "      <td>NaN</td>\n",
              "      <td>NaN</td>\n",
              "      <td>NaN</td>\n",
              "      <td>NaN</td>\n",
              "    </tr>\n",
              "    <tr>\n",
              "      <th>8999</th>\n",
              "      <td>2017-09-07 00:00:00</td>\n",
              "      <td>DOG</td>\n",
              "      <td>POMERANIAN</td>\n",
              "      <td>MALE</td>\n",
              "      <td>RED</td>\n",
              "      <td>NaN</td>\n",
              "      <td>NaN</td>\n",
              "      <td>40204</td>\n",
              "      <td>NaN</td>\n",
              "      <td>HEAD</td>\n",
              "      <td>NaN</td>\n",
              "      <td>NaN</td>\n",
              "      <td>NaN</td>\n",
              "      <td>NaN</td>\n",
              "      <td>NaN</td>\n",
              "    </tr>\n",
              "    <tr>\n",
              "      <th>9000</th>\n",
              "      <td>2017-09-07 00:00:00</td>\n",
              "      <td>DOG</td>\n",
              "      <td>LABRADOR RETRIV</td>\n",
              "      <td>MALE</td>\n",
              "      <td>BROWN</td>\n",
              "      <td>NaN</td>\n",
              "      <td>NaN</td>\n",
              "      <td>47130</td>\n",
              "      <td>NaN</td>\n",
              "      <td>UNKNOWN</td>\n",
              "      <td>NaN</td>\n",
              "      <td>NaN</td>\n",
              "      <td>NaN</td>\n",
              "      <td>NaN</td>\n",
              "      <td>NaN</td>\n",
              "    </tr>\n",
              "    <tr>\n",
              "      <th>9001</th>\n",
              "      <td>2017-09-07 00:00:00</td>\n",
              "      <td>DOG</td>\n",
              "      <td>LABRADOR RETRIV</td>\n",
              "      <td>FEMALE</td>\n",
              "      <td>BLK WHT</td>\n",
              "      <td>NaN</td>\n",
              "      <td>NaN</td>\n",
              "      <td>40229</td>\n",
              "      <td>NaN</td>\n",
              "      <td>BODY</td>\n",
              "      <td>NaN</td>\n",
              "      <td>NaN</td>\n",
              "      <td>NaN</td>\n",
              "      <td>NaN</td>\n",
              "      <td>NaN</td>\n",
              "    </tr>\n",
              "    <tr>\n",
              "      <th>9002</th>\n",
              "      <td>2017-09-07 00:00:00</td>\n",
              "      <td>DOG</td>\n",
              "      <td>BOXER</td>\n",
              "      <td>NaN</td>\n",
              "      <td>BRN BLK</td>\n",
              "      <td>NaN</td>\n",
              "      <td>NaN</td>\n",
              "      <td>40229</td>\n",
              "      <td>NaN</td>\n",
              "      <td>BODY</td>\n",
              "      <td>NaN</td>\n",
              "      <td>NaN</td>\n",
              "      <td>NaN</td>\n",
              "      <td>NaN</td>\n",
              "      <td>NaN</td>\n",
              "    </tr>\n",
              "  </tbody>\n",
              "</table>\n",
              "<p>8885 rows × 15 columns</p>\n",
              "</div>"
            ],
            "text/plain": [
              "                bite_date SpeciesIDDesc  ... release_date ResultsIDDesc\n",
              "0     1985-05-05 00:00:00           DOG  ...          NaN       UNKNOWN\n",
              "1     1986-02-12 00:00:00           DOG  ...          NaN       UNKNOWN\n",
              "2     1987-05-07 00:00:00           DOG  ...          NaN       UNKNOWN\n",
              "3     1988-10-02 00:00:00           DOG  ...          NaN       UNKNOWN\n",
              "4     1989-08-29 00:00:00           DOG  ...          NaN       UNKNOWN\n",
              "...                   ...           ...  ...          ...           ...\n",
              "8998  2017-09-05 00:00:00           DOG  ...          NaN           NaN\n",
              "8999  2017-09-07 00:00:00           DOG  ...          NaN           NaN\n",
              "9000  2017-09-07 00:00:00           DOG  ...          NaN           NaN\n",
              "9001  2017-09-07 00:00:00           DOG  ...          NaN           NaN\n",
              "9002  2017-09-07 00:00:00           DOG  ...          NaN           NaN\n",
              "\n",
              "[8885 rows x 15 columns]"
            ]
          },
          "metadata": {
            "tags": []
          }
        },
        {
          "output_type": "stream",
          "text": [
            "<class 'pandas.core.frame.DataFrame'>\n",
            "Int64Index: 8885 entries, 0 to 9002\n",
            "Data columns (total 15 columns):\n",
            " #   Column             Non-Null Count  Dtype  \n",
            "---  ------             --------------  -----  \n",
            " 0   bite_date          8585 non-null   object \n",
            " 1   SpeciesIDDesc      8885 non-null   object \n",
            " 2   BreedIDDesc        3758 non-null   object \n",
            " 3   GenderIDDesc       6472 non-null   object \n",
            " 4   color              6421 non-null   object \n",
            " 5   vaccination_yrs    3737 non-null   float64\n",
            " 6   vaccination_date   4113 non-null   object \n",
            " 7   victim_zip         7097 non-null   object \n",
            " 8   AdvIssuedYNDesc    2558 non-null   object \n",
            " 9   WhereBittenIDDesc  8310 non-null   object \n",
            " 10  quarantine_date    2020 non-null   object \n",
            " 11  DispositionIDDesc  1535 non-null   object \n",
            " 12  head_sent_date     390 non-null    object \n",
            " 13  release_date       1443 non-null   object \n",
            " 14  ResultsIDDesc      1540 non-null   object \n",
            "dtypes: float64(1), object(14)\n",
            "memory usage: 1.1+ MB\n"
          ],
          "name": "stdout"
        }
      ]
    },
    {
      "cell_type": "markdown",
      "metadata": {
        "id": "haMbTSIMo5fs"
      },
      "source": [
        "**ANALISIS**"
      ]
    },
    {
      "cell_type": "code",
      "metadata": {
        "colab": {
          "base_uri": "https://localhost:8080/"
        },
        "id": "5K1OdH_wpnbM",
        "outputId": "c73f2b2d-c5d3-444d-ab09-1df79ea9ec6d"
      },
      "source": [
        "especies=archivo.SpeciesIDDesc\n",
        "especiesPorAnimal=especies.unique()\n",
        "print(especiesPorAnimal)"
      ],
      "execution_count": 1554,
      "outputs": [
        {
          "output_type": "stream",
          "text": [
            "['DOG' 'CAT' 'BAT' 'RACCOON' 'OTHER' 'RABBIT' 'HORSE' 'SKUNK' 'FERRET']\n"
          ],
          "name": "stdout"
        }
      ]
    },
    {
      "cell_type": "markdown",
      "metadata": {
        "id": "yT4vuP7PvqEL"
      },
      "source": [
        "**'PERRO' 'GATO' 'MURCIÉLAGO' 'MAPACHE' 'OTRO' 'CONEJO' 'CABALLO' 'MOFETA' 'HURÓN'**"
      ]
    },
    {
      "cell_type": "markdown",
      "metadata": {
        "id": "EHGLfudFvNLb"
      },
      "source": [
        "**Cantidad de mordeduras por especie**"
      ]
    },
    {
      "cell_type": "code",
      "metadata": {
        "colab": {
          "base_uri": "https://localhost:8080/",
          "height": 338
        },
        "id": "lV9xwGrjqs7u",
        "outputId": "f2984e2f-2b39-4541-9f40-06b9f4b354aa"
      },
      "source": [
        "animales_lista=[]\n",
        "for i in especiesPorAnimal:\n",
        "  animales_lista.append(len(especies[especies==i]))\n",
        "especiess=sns.barplot(x=especiesPorAnimal,y=animales_lista)\n",
        "plt.title('Numero de mordidas por especie')\n",
        "plt.xticks(rotation=90)\n",
        "print(animales_lista)"
      ],
      "execution_count": 1555,
      "outputs": [
        {
          "output_type": "stream",
          "text": [
            "[7029, 1568, 237, 27, 11, 3, 5, 1, 4]\n"
          ],
          "name": "stdout"
        },
        {
          "output_type": "display_data",
          "data": {
            "image/png": "[encoded data removed]",
            "text/plain": [
              "<Figure size 432x288 with 1 Axes>"
            ]
          },
          "metadata": {
            "tags": [],
            "needs_background": "light"
          }
        }
      ]
    },
    {
      "cell_type": "markdown",
      "metadata": {
        "id": "yhuuZGljvlA6"
      },
      "source": [
        "Las especies que tienen mayor cantidad son las perros, gatos y muercielagos."
      ]
    },
    {
      "cell_type": "markdown",
      "metadata": {
        "id": "mmPK1xUcCWi4"
      },
      "source": [
        "**Cantidad de mordeduras por el tipo de raza del perro**"
      ]
    },
    {
      "cell_type": "code",
      "metadata": {
        "colab": {
          "base_uri": "https://localhost:8080/"
        },
        "id": "nCenMkDd63wI",
        "outputId": "fc64f888-f41e-4e89-973d-a8477d22fc41"
      },
      "source": [
        "razas=archivo.BreedIDDesc\n",
        "porrazas=razas.unique()\n",
        "print(porrazas)"
      ],
      "execution_count": 1556,
      "outputs": [
        {
          "output_type": "stream",
          "text": [
            "[nan 'GERM SHEPHERD' 'DACHSHUND' 'PIT BULL' 'SHIH TZU' 'COCKER SPAINEL'\n",
            " 'CHICHAUHUA' 'BEAGLE' 'CHOW CHOW' 'OTHER' 'BOXER' 'AAUST. TERR.'\n",
            " 'GOLD RETRIEVER' 'LABRADOR RETRIV' 'BULLMASTIFF' 'BORDER COLLIE'\n",
            " 'POMERANIAN' 'YORKSHIRE TERRIER' 'GREYHOUND' 'ROTTWEILER'\n",
            " 'AMER. BULL DOG' 'DALMATIAN' 'HUSKY' 'BULL DOG' 'MASTIF'\n",
            " 'GREAT PYRENEESE' 'GREAT DANE' 'POODLE' 'SIBERAN HUSKY' 'WEIMARANER'\n",
            " 'CORGI' 'BOSTON TERRIER' 'SCHNAUZER' 'BASSET HOUND' 'MIN PIN'\n",
            " 'WELSH CORGI' 'AM BULLDOG' 'SAMOYED' 'MALTASE' 'AKITA' 'SHELTIE'\n",
            " 'LHASA APSO' 'SAINT BERNARD' 'AIREDALE TER.' 'AM. ESKIMO' 'BICHON FRISE'\n",
            " 'PUG' 'DOBERMAN' 'DOTSON' 'NEW FOUNDLAND' 'BERNESEN MT.' 'HAVANESE'\n",
            " 'ENGLISH SETTER' 'SHAR-PEI' 'COCKAPOO' 'OLD ENG SHP DOG' 'WESTIE'\n",
            " 'BOUVIER' 'RAT TERRIER' 'SHEEP DOG' 'HEELER' 'PEKINGESE'\n",
            " 'FOX TERRIER MIX' 'ENGLISH BULLDOG' 'BORDER COLLIE M' 'BASANJI' 'PYRENES'\n",
            " 'BLOOD HOUND' 'COLLIE' 'ALASK. MALAMUTE' 'BRITNEY SPANIEL' 'BICHON FRESE'\n",
            " 'FOX TERRIER' 'BLUE HEELER' 'CATAHOULA' 'CANE CORSO' 'IRISH SETTER'\n",
            " 'ENGLISH SHEPARD' 'ENG. MASTIFF' 'BLACK LAB' 'SCOTTISH TER.'\n",
            " 'LAKELAND TER.' 'COON HOUND' 'CHOCOLATE LAB.' 'BOX TERRIER' 'CATTLE DOG'\n",
            " 'SPITZ' 'TOY POODLE' 'FRENCH BULLDOG' 'BRIARD' 'ST BERNARD' 'GOLDEN LAB'\n",
            " 'TOY FOX TERRIER' 'RED HEELER' 'WEINER DOG' 'MALAMUTE' 'IRISH SPANIEL'\n",
            " 'BESINJI' 'BEARDED COLLIE' 'STAN POODLE' 'AMER FOX HOUND'\n",
            " 'IRISH WOLFHOUND']\n"
          ],
          "name": "stdout"
        }
      ]
    },
    {
      "cell_type": "code",
      "metadata": {
        "colab": {
          "base_uri": "https://localhost:8080/"
        },
        "id": "QJ8yM_pg7ukR",
        "outputId": "ad561e2d-b9c9-4e4f-bc02-2a82e5671792"
      },
      "source": [
        "raza_lista=[]\n",
        "cont1=0\n",
        "for i in porrazas:\n",
        "  cont1+=1\n",
        "  raza_lista.append(len(razas[razas==i]))\n",
        "print(raza_lista)\n",
        "print(\"numero de razas\",cont1)"
      ],
      "execution_count": 1557,
      "outputs": [
        {
          "output_type": "stream",
          "text": [
            "[0, 327, 67, 1101, 119, 30, 165, 116, 46, 35, 181, 78, 60, 253, 22, 47, 38, 46, 11, 86, 21, 4, 34, 34, 27, 10, 43, 50, 26, 16, 9, 29, 39, 22, 27, 8, 26, 4, 28, 28, 10, 7, 6, 3, 5, 4, 20, 32, 17, 2, 7, 6, 4, 11, 2, 1, 14, 2, 20, 7, 3, 9, 1, 28, 18, 5, 2, 8, 16, 9, 5, 7, 8, 10, 5, 40, 3, 4, 3, 23, 4, 3, 11, 1, 3, 6, 2, 4, 4, 1, 4, 3, 2, 1, 1, 2, 1, 1, 1, 1, 1, 1]\n",
            "numero de razas 102\n"
          ],
          "name": "stdout"
        }
      ]
    },
    {
      "cell_type": "markdown",
      "metadata": {
        "id": "uvm_D27R89YK"
      },
      "source": [
        "Elegimos las 10 primera razas ya que tienen mayor cantidad de mordeduras"
      ]
    },
    {
      "cell_type": "code",
      "metadata": {
        "colab": {
          "base_uri": "https://localhost:8080/",
          "height": 532
        },
        "id": "yq0Phcrk9M2x",
        "outputId": "1807ae2a-c635-44c9-9513-984c1f2efd8d"
      },
      "source": [
        "count = archivo.BreedIDDesc.value_counts()\n",
        "plt.figure(figsize=(15,8))\n",
        "razass = sns.barplot(x=count[0:10].index,y=count[0:10])\n",
        "plt.xticks(rotation=20)\n",
        "plt.ylabel(\"Number of Bite\")\n",
        "plt.savefig('graph.png')\n",
        "\n",
        "print(count[0:10].index)\n"
      ],
      "execution_count": 1558,
      "outputs": [
        {
          "output_type": "stream",
          "text": [
            "Index(['PIT BULL', 'GERM SHEPHERD', 'LABRADOR RETRIV', 'BOXER', 'CHICHAUHUA',\n",
            "       'SHIH TZU', 'BEAGLE', 'ROTTWEILER', 'AAUST. TERR.', 'DACHSHUND'],\n",
            "      dtype='object')\n"
          ],
          "name": "stdout"
        },
        {
          "output_type": "display_data",
          "data": {
            "image/png": "[encoded data removed]",
            "text/plain": [
              "<Figure size 1080x576 with 1 Axes>"
            ]
          },
          "metadata": {
            "tags": [],
            "needs_background": "light"
          }
        }
      ]
    },
    {
      "cell_type": "markdown",
      "metadata": {
        "id": "aPoC_qp6HgHd"
      },
      "source": [
        "**Cantidad de mordeduras por su genero macho o hembra**"
      ]
    },
    {
      "cell_type": "code",
      "metadata": {
        "colab": {
          "base_uri": "https://localhost:8080/",
          "height": 563
        },
        "id": "dfNNYoj9ITFd",
        "outputId": "4c0a9182-9e60-43a9-dbf4-bdb56d7a4af0"
      },
      "source": [
        "genero=['MALE','FEMALE']\n",
        "cantidad=archivo.GenderIDDesc.value_counts()\n",
        "plt.figure(figsize=(7,8))\n",
        "geneross=sns.barplot(x=genero,y=cantidad[0:2])\n",
        "plt.ylabel('NUMERO DE MORDEDURAS ')\n",
        "plt.xticks(rotation = 20)\n",
        "plt.title('GENRO')\n",
        "print(cantidad[0:2])"
      ],
      "execution_count": 1559,
      "outputs": [
        {
          "output_type": "stream",
          "text": [
            "MALE      3831\n",
            "FEMALE    2014\n",
            "Name: GenderIDDesc, dtype: int64\n"
          ],
          "name": "stdout"
        },
        {
          "output_type": "display_data",
          "data": {
            "image/png": "[encoded data removed]",
            "text/plain": [
              "<Figure size 504x576 with 1 Axes>"
            ]
          },
          "metadata": {
            "tags": [],
            "needs_background": "light"
          }
        }
      ]
    },
    {
      "cell_type": "code",
      "metadata": {
        "id": "swX8ENYTOJEd"
      },
      "source": [
        ""
      ],
      "execution_count": 1559,
      "outputs": []
    },
    {
      "cell_type": "markdown",
      "metadata": {
        "id": "w66bN3Emd8qq"
      },
      "source": [
        "**Las otras columnas que tienen null se las reemplaza por la medio**\n",
        "\n",
        "\n",
        "\n"
      ]
    },
    {
      "cell_type": "code",
      "metadata": {
        "colab": {
          "base_uri": "https://localhost:8080/"
        },
        "id": "-W2N5wPYeVXS",
        "outputId": "13c114d8-cefc-4ec0-d105-67865fb1adad"
      },
      "source": [
        "archivo = archivo.replace(\"?\", np.NaN)\n",
        "archivo= archivo.fillna(archivo.mean())\n",
        "for column in archivo.columns:\n",
        "    if archivo[column].dtypes == 'object':\n",
        "        archivo[column] = archivo[column].fillna(archivo[column].value_counts().index[0])\n",
        "archivo.isnull().sum()"
      ],
      "execution_count": 1560,
      "outputs": [
        {
          "output_type": "execute_result",
          "data": {
            "text/plain": [
              "bite_date            0\n",
              "SpeciesIDDesc        0\n",
              "BreedIDDesc          0\n",
              "GenderIDDesc         0\n",
              "color                0\n",
              "vaccination_yrs      0\n",
              "vaccination_date     0\n",
              "victim_zip           0\n",
              "AdvIssuedYNDesc      0\n",
              "WhereBittenIDDesc    0\n",
              "quarantine_date      0\n",
              "DispositionIDDesc    0\n",
              "head_sent_date       0\n",
              "release_date         0\n",
              "ResultsIDDesc        0\n",
              "dtype: int64"
            ]
          },
          "metadata": {
            "tags": []
          },
          "execution_count": 1560
        }
      ]
    },
    {
      "cell_type": "markdown",
      "metadata": {
        "id": "9mUzV694lmsQ"
      },
      "source": [
        "**Convertir lo datos no numéricos en valores numéricos**"
      ]
    },
    {
      "cell_type": "code",
      "metadata": {
        "colab": {
          "base_uri": "https://localhost:8080/",
          "height": 439
        },
        "id": "DOzsb4MtWOXP",
        "outputId": "da42f56f-ee23-487d-a0fb-2df0c828cc2e"
      },
      "source": [
        "#convertir los valores no numericos en valores numericos\n",
        "le = LabelEncoder()\n",
        "\n",
        "for column in archivo.columns:\n",
        "    if archivo[column].dtype=='object':\n",
        "        archivo[column]=le.fit_transform(archivo[column])\n",
        "\n",
        "archivo"
      ],
      "execution_count": 1561,
      "outputs": [
        {
          "output_type": "execute_result",
          "data": {
            "text/html": [
              "<div>\n",
              "<style scoped>\n",
              "    .dataframe tbody tr th:only-of-type {\n",
              "        vertical-align: middle;\n",
              "    }\n",
              "\n",
              "    .dataframe tbody tr th {\n",
              "        vertical-align: top;\n",
              "    }\n",
              "\n",
              "    .dataframe thead th {\n",
              "        text-align: right;\n",
              "    }\n",
              "</style>\n",
              "<table border=\"1\" class=\"dataframe\">\n",
              "  <thead>\n",
              "    <tr style=\"text-align: right;\">\n",
              "      <th></th>\n",
              "      <th>bite_date</th>\n",
              "      <th>SpeciesIDDesc</th>\n",
              "      <th>BreedIDDesc</th>\n",
              "      <th>GenderIDDesc</th>\n",
              "      <th>color</th>\n",
              "      <th>vaccination_yrs</th>\n",
              "      <th>vaccination_date</th>\n",
              "      <th>victim_zip</th>\n",
              "      <th>AdvIssuedYNDesc</th>\n",
              "      <th>WhereBittenIDDesc</th>\n",
              "      <th>quarantine_date</th>\n",
              "      <th>DispositionIDDesc</th>\n",
              "      <th>head_sent_date</th>\n",
              "      <th>release_date</th>\n",
              "      <th>ResultsIDDesc</th>\n",
              "    </tr>\n",
              "  </thead>\n",
              "  <tbody>\n",
              "    <tr>\n",
              "      <th>0</th>\n",
              "      <td>2</td>\n",
              "      <td>2</td>\n",
              "      <td>74</td>\n",
              "      <td>0</td>\n",
              "      <td>410</td>\n",
              "      <td>1.000000</td>\n",
              "      <td>0</td>\n",
              "      <td>106</td>\n",
              "      <td>0</td>\n",
              "      <td>0</td>\n",
              "      <td>0</td>\n",
              "      <td>3</td>\n",
              "      <td>16</td>\n",
              "      <td>325</td>\n",
              "      <td>2</td>\n",
              "    </tr>\n",
              "    <tr>\n",
              "      <th>1</th>\n",
              "      <td>3</td>\n",
              "      <td>2</td>\n",
              "      <td>74</td>\n",
              "      <td>2</td>\n",
              "      <td>242</td>\n",
              "      <td>1.452234</td>\n",
              "      <td>1663</td>\n",
              "      <td>98</td>\n",
              "      <td>0</td>\n",
              "      <td>0</td>\n",
              "      <td>1</td>\n",
              "      <td>3</td>\n",
              "      <td>16</td>\n",
              "      <td>325</td>\n",
              "      <td>2</td>\n",
              "    </tr>\n",
              "    <tr>\n",
              "      <th>2</th>\n",
              "      <td>4</td>\n",
              "      <td>2</td>\n",
              "      <td>74</td>\n",
              "      <td>2</td>\n",
              "      <td>18</td>\n",
              "      <td>1.452234</td>\n",
              "      <td>1663</td>\n",
              "      <td>99</td>\n",
              "      <td>0</td>\n",
              "      <td>0</td>\n",
              "      <td>4</td>\n",
              "      <td>3</td>\n",
              "      <td>16</td>\n",
              "      <td>325</td>\n",
              "      <td>2</td>\n",
              "    </tr>\n",
              "    <tr>\n",
              "      <th>3</th>\n",
              "      <td>5</td>\n",
              "      <td>2</td>\n",
              "      <td>74</td>\n",
              "      <td>1</td>\n",
              "      <td>15</td>\n",
              "      <td>1.452234</td>\n",
              "      <td>1663</td>\n",
              "      <td>118</td>\n",
              "      <td>0</td>\n",
              "      <td>0</td>\n",
              "      <td>8</td>\n",
              "      <td>3</td>\n",
              "      <td>16</td>\n",
              "      <td>325</td>\n",
              "      <td>2</td>\n",
              "    </tr>\n",
              "    <tr>\n",
              "      <th>4</th>\n",
              "      <td>6</td>\n",
              "      <td>2</td>\n",
              "      <td>74</td>\n",
              "      <td>0</td>\n",
              "      <td>106</td>\n",
              "      <td>1.452234</td>\n",
              "      <td>1663</td>\n",
              "      <td>118</td>\n",
              "      <td>0</td>\n",
              "      <td>0</td>\n",
              "      <td>109</td>\n",
              "      <td>3</td>\n",
              "      <td>16</td>\n",
              "      <td>325</td>\n",
              "      <td>2</td>\n",
              "    </tr>\n",
              "    <tr>\n",
              "      <th>...</th>\n",
              "      <td>...</td>\n",
              "      <td>...</td>\n",
              "      <td>...</td>\n",
              "      <td>...</td>\n",
              "      <td>...</td>\n",
              "      <td>...</td>\n",
              "      <td>...</td>\n",
              "      <td>...</td>\n",
              "      <td>...</td>\n",
              "      <td>...</td>\n",
              "      <td>...</td>\n",
              "      <td>...</td>\n",
              "      <td>...</td>\n",
              "      <td>...</td>\n",
              "      <td>...</td>\n",
              "    </tr>\n",
              "    <tr>\n",
              "      <th>8998</th>\n",
              "      <td>2688</td>\n",
              "      <td>2</td>\n",
              "      <td>74</td>\n",
              "      <td>1</td>\n",
              "      <td>18</td>\n",
              "      <td>1.452234</td>\n",
              "      <td>1663</td>\n",
              "      <td>110</td>\n",
              "      <td>0</td>\n",
              "      <td>2</td>\n",
              "      <td>109</td>\n",
              "      <td>2</td>\n",
              "      <td>16</td>\n",
              "      <td>325</td>\n",
              "      <td>2</td>\n",
              "    </tr>\n",
              "    <tr>\n",
              "      <th>8999</th>\n",
              "      <td>2690</td>\n",
              "      <td>2</td>\n",
              "      <td>75</td>\n",
              "      <td>1</td>\n",
              "      <td>461</td>\n",
              "      <td>1.452234</td>\n",
              "      <td>1663</td>\n",
              "      <td>84</td>\n",
              "      <td>0</td>\n",
              "      <td>1</td>\n",
              "      <td>109</td>\n",
              "      <td>2</td>\n",
              "      <td>16</td>\n",
              "      <td>325</td>\n",
              "      <td>2</td>\n",
              "    </tr>\n",
              "    <tr>\n",
              "      <th>9000</th>\n",
              "      <td>2690</td>\n",
              "      <td>2</td>\n",
              "      <td>63</td>\n",
              "      <td>1</td>\n",
              "      <td>248</td>\n",
              "      <td>1.452234</td>\n",
              "      <td>1663</td>\n",
              "      <td>183</td>\n",
              "      <td>0</td>\n",
              "      <td>2</td>\n",
              "      <td>109</td>\n",
              "      <td>2</td>\n",
              "      <td>16</td>\n",
              "      <td>325</td>\n",
              "      <td>2</td>\n",
              "    </tr>\n",
              "    <tr>\n",
              "      <th>9001</th>\n",
              "      <td>2690</td>\n",
              "      <td>2</td>\n",
              "      <td>63</td>\n",
              "      <td>0</td>\n",
              "      <td>90</td>\n",
              "      <td>1.452234</td>\n",
              "      <td>1663</td>\n",
              "      <td>106</td>\n",
              "      <td>0</td>\n",
              "      <td>0</td>\n",
              "      <td>109</td>\n",
              "      <td>2</td>\n",
              "      <td>16</td>\n",
              "      <td>325</td>\n",
              "      <td>2</td>\n",
              "    </tr>\n",
              "    <tr>\n",
              "      <th>9002</th>\n",
              "      <td>2690</td>\n",
              "      <td>2</td>\n",
              "      <td>24</td>\n",
              "      <td>1</td>\n",
              "      <td>195</td>\n",
              "      <td>1.452234</td>\n",
              "      <td>1663</td>\n",
              "      <td>106</td>\n",
              "      <td>0</td>\n",
              "      <td>0</td>\n",
              "      <td>109</td>\n",
              "      <td>2</td>\n",
              "      <td>16</td>\n",
              "      <td>325</td>\n",
              "      <td>2</td>\n",
              "    </tr>\n",
              "  </tbody>\n",
              "</table>\n",
              "<p>8885 rows × 15 columns</p>\n",
              "</div>"
            ],
            "text/plain": [
              "      bite_date  SpeciesIDDesc  ...  release_date  ResultsIDDesc\n",
              "0             2              2  ...           325              2\n",
              "1             3              2  ...           325              2\n",
              "2             4              2  ...           325              2\n",
              "3             5              2  ...           325              2\n",
              "4             6              2  ...           325              2\n",
              "...         ...            ...  ...           ...            ...\n",
              "8998       2688              2  ...           325              2\n",
              "8999       2690              2  ...           325              2\n",
              "9000       2690              2  ...           325              2\n",
              "9001       2690              2  ...           325              2\n",
              "9002       2690              2  ...           325              2\n",
              "\n",
              "[8885 rows x 15 columns]"
            ]
          },
          "metadata": {
            "tags": []
          },
          "execution_count": 1561
        }
      ]
    },
    {
      "cell_type": "markdown",
      "metadata": {
        "id": "5cok7JJ8q0Gx"
      },
      "source": [
        "**Escogemos la variable dependiente(clase) y las independientes**\n",
        "\n",
        "Para poner realizar el modelo de entrenamiento\n",
        "\n",
        "*   la columna 2 es la variable dependiente \n",
        "*   las demás columnas son variables independientes\n",
        "\n",
        "\n",
        "\n",
        "\n"
      ]
    },
    {
      "cell_type": "code",
      "metadata": {
        "colab": {
          "base_uri": "https://localhost:8080/",
          "height": 439
        },
        "id": "1fSz-tSf6Mx5",
        "outputId": "d854b476-8f4c-4f33-e4d9-ed5463c9d32e"
      },
      "source": [
        "X=[]\n",
        "X=archivo.iloc[:,[0,2,3,4,5,6,7,8,9,10,11,12,13,14]]\n",
        "X"
      ],
      "execution_count": 1562,
      "outputs": [
        {
          "output_type": "execute_result",
          "data": {
            "text/html": [
              "<div>\n",
              "<style scoped>\n",
              "    .dataframe tbody tr th:only-of-type {\n",
              "        vertical-align: middle;\n",
              "    }\n",
              "\n",
              "    .dataframe tbody tr th {\n",
              "        vertical-align: top;\n",
              "    }\n",
              "\n",
              "    .dataframe thead th {\n",
              "        text-align: right;\n",
              "    }\n",
              "</style>\n",
              "<table border=\"1\" class=\"dataframe\">\n",
              "  <thead>\n",
              "    <tr style=\"text-align: right;\">\n",
              "      <th></th>\n",
              "      <th>bite_date</th>\n",
              "      <th>BreedIDDesc</th>\n",
              "      <th>GenderIDDesc</th>\n",
              "      <th>color</th>\n",
              "      <th>vaccination_yrs</th>\n",
              "      <th>vaccination_date</th>\n",
              "      <th>victim_zip</th>\n",
              "      <th>AdvIssuedYNDesc</th>\n",
              "      <th>WhereBittenIDDesc</th>\n",
              "      <th>quarantine_date</th>\n",
              "      <th>DispositionIDDesc</th>\n",
              "      <th>head_sent_date</th>\n",
              "      <th>release_date</th>\n",
              "      <th>ResultsIDDesc</th>\n",
              "    </tr>\n",
              "  </thead>\n",
              "  <tbody>\n",
              "    <tr>\n",
              "      <th>0</th>\n",
              "      <td>2</td>\n",
              "      <td>74</td>\n",
              "      <td>0</td>\n",
              "      <td>410</td>\n",
              "      <td>1.000000</td>\n",
              "      <td>0</td>\n",
              "      <td>106</td>\n",
              "      <td>0</td>\n",
              "      <td>0</td>\n",
              "      <td>0</td>\n",
              "      <td>3</td>\n",
              "      <td>16</td>\n",
              "      <td>325</td>\n",
              "      <td>2</td>\n",
              "    </tr>\n",
              "    <tr>\n",
              "      <th>1</th>\n",
              "      <td>3</td>\n",
              "      <td>74</td>\n",
              "      <td>2</td>\n",
              "      <td>242</td>\n",
              "      <td>1.452234</td>\n",
              "      <td>1663</td>\n",
              "      <td>98</td>\n",
              "      <td>0</td>\n",
              "      <td>0</td>\n",
              "      <td>1</td>\n",
              "      <td>3</td>\n",
              "      <td>16</td>\n",
              "      <td>325</td>\n",
              "      <td>2</td>\n",
              "    </tr>\n",
              "    <tr>\n",
              "      <th>2</th>\n",
              "      <td>4</td>\n",
              "      <td>74</td>\n",
              "      <td>2</td>\n",
              "      <td>18</td>\n",
              "      <td>1.452234</td>\n",
              "      <td>1663</td>\n",
              "      <td>99</td>\n",
              "      <td>0</td>\n",
              "      <td>0</td>\n",
              "      <td>4</td>\n",
              "      <td>3</td>\n",
              "      <td>16</td>\n",
              "      <td>325</td>\n",
              "      <td>2</td>\n",
              "    </tr>\n",
              "    <tr>\n",
              "      <th>3</th>\n",
              "      <td>5</td>\n",
              "      <td>74</td>\n",
              "      <td>1</td>\n",
              "      <td>15</td>\n",
              "      <td>1.452234</td>\n",
              "      <td>1663</td>\n",
              "      <td>118</td>\n",
              "      <td>0</td>\n",
              "      <td>0</td>\n",
              "      <td>8</td>\n",
              "      <td>3</td>\n",
              "      <td>16</td>\n",
              "      <td>325</td>\n",
              "      <td>2</td>\n",
              "    </tr>\n",
              "    <tr>\n",
              "      <th>4</th>\n",
              "      <td>6</td>\n",
              "      <td>74</td>\n",
              "      <td>0</td>\n",
              "      <td>106</td>\n",
              "      <td>1.452234</td>\n",
              "      <td>1663</td>\n",
              "      <td>118</td>\n",
              "      <td>0</td>\n",
              "      <td>0</td>\n",
              "      <td>109</td>\n",
              "      <td>3</td>\n",
              "      <td>16</td>\n",
              "      <td>325</td>\n",
              "      <td>2</td>\n",
              "    </tr>\n",
              "    <tr>\n",
              "      <th>...</th>\n",
              "      <td>...</td>\n",
              "      <td>...</td>\n",
              "      <td>...</td>\n",
              "      <td>...</td>\n",
              "      <td>...</td>\n",
              "      <td>...</td>\n",
              "      <td>...</td>\n",
              "      <td>...</td>\n",
              "      <td>...</td>\n",
              "      <td>...</td>\n",
              "      <td>...</td>\n",
              "      <td>...</td>\n",
              "      <td>...</td>\n",
              "      <td>...</td>\n",
              "    </tr>\n",
              "    <tr>\n",
              "      <th>8998</th>\n",
              "      <td>2688</td>\n",
              "      <td>74</td>\n",
              "      <td>1</td>\n",
              "      <td>18</td>\n",
              "      <td>1.452234</td>\n",
              "      <td>1663</td>\n",
              "      <td>110</td>\n",
              "      <td>0</td>\n",
              "      <td>2</td>\n",
              "      <td>109</td>\n",
              "      <td>2</td>\n",
              "      <td>16</td>\n",
              "      <td>325</td>\n",
              "      <td>2</td>\n",
              "    </tr>\n",
              "    <tr>\n",
              "      <th>8999</th>\n",
              "      <td>2690</td>\n",
              "      <td>75</td>\n",
              "      <td>1</td>\n",
              "      <td>461</td>\n",
              "      <td>1.452234</td>\n",
              "      <td>1663</td>\n",
              "      <td>84</td>\n",
              "      <td>0</td>\n",
              "      <td>1</td>\n",
              "      <td>109</td>\n",
              "      <td>2</td>\n",
              "      <td>16</td>\n",
              "      <td>325</td>\n",
              "      <td>2</td>\n",
              "    </tr>\n",
              "    <tr>\n",
              "      <th>9000</th>\n",
              "      <td>2690</td>\n",
              "      <td>63</td>\n",
              "      <td>1</td>\n",
              "      <td>248</td>\n",
              "      <td>1.452234</td>\n",
              "      <td>1663</td>\n",
              "      <td>183</td>\n",
              "      <td>0</td>\n",
              "      <td>2</td>\n",
              "      <td>109</td>\n",
              "      <td>2</td>\n",
              "      <td>16</td>\n",
              "      <td>325</td>\n",
              "      <td>2</td>\n",
              "    </tr>\n",
              "    <tr>\n",
              "      <th>9001</th>\n",
              "      <td>2690</td>\n",
              "      <td>63</td>\n",
              "      <td>0</td>\n",
              "      <td>90</td>\n",
              "      <td>1.452234</td>\n",
              "      <td>1663</td>\n",
              "      <td>106</td>\n",
              "      <td>0</td>\n",
              "      <td>0</td>\n",
              "      <td>109</td>\n",
              "      <td>2</td>\n",
              "      <td>16</td>\n",
              "      <td>325</td>\n",
              "      <td>2</td>\n",
              "    </tr>\n",
              "    <tr>\n",
              "      <th>9002</th>\n",
              "      <td>2690</td>\n",
              "      <td>24</td>\n",
              "      <td>1</td>\n",
              "      <td>195</td>\n",
              "      <td>1.452234</td>\n",
              "      <td>1663</td>\n",
              "      <td>106</td>\n",
              "      <td>0</td>\n",
              "      <td>0</td>\n",
              "      <td>109</td>\n",
              "      <td>2</td>\n",
              "      <td>16</td>\n",
              "      <td>325</td>\n",
              "      <td>2</td>\n",
              "    </tr>\n",
              "  </tbody>\n",
              "</table>\n",
              "<p>8885 rows × 14 columns</p>\n",
              "</div>"
            ],
            "text/plain": [
              "      bite_date  BreedIDDesc  ...  release_date  ResultsIDDesc\n",
              "0             2           74  ...           325              2\n",
              "1             3           74  ...           325              2\n",
              "2             4           74  ...           325              2\n",
              "3             5           74  ...           325              2\n",
              "4             6           74  ...           325              2\n",
              "...         ...          ...  ...           ...            ...\n",
              "8998       2688           74  ...           325              2\n",
              "8999       2690           75  ...           325              2\n",
              "9000       2690           63  ...           325              2\n",
              "9001       2690           63  ...           325              2\n",
              "9002       2690           24  ...           325              2\n",
              "\n",
              "[8885 rows x 14 columns]"
            ]
          },
          "metadata": {
            "tags": []
          },
          "execution_count": 1562
        }
      ]
    },
    {
      "cell_type": "code",
      "metadata": {
        "colab": {
          "base_uri": "https://localhost:8080/"
        },
        "id": "bHeSXXk26lwx",
        "outputId": "0fdd58e6-3f10-4324-e9c7-434e4f3a7e3c"
      },
      "source": [
        "y=archivo.iloc[:,1]\n",
        "y"
      ],
      "execution_count": 1563,
      "outputs": [
        {
          "output_type": "execute_result",
          "data": {
            "text/plain": [
              "0       2\n",
              "1       2\n",
              "2       2\n",
              "3       2\n",
              "4       2\n",
              "       ..\n",
              "8998    2\n",
              "8999    2\n",
              "9000    2\n",
              "9001    2\n",
              "9002    2\n",
              "Name: SpeciesIDDesc, Length: 8885, dtype: int64"
            ]
          },
          "metadata": {
            "tags": []
          },
          "execution_count": 1563
        }
      ]
    },
    {
      "cell_type": "code",
      "metadata": {
        "colab": {
          "base_uri": "https://localhost:8080/"
        },
        "id": "D0uREeyIdeUQ",
        "outputId": "ebc78eb8-3d9a-4500-9676-fc9bd20eb0cd"
      },
      "source": [
        "X=np.array(X)\n",
        "print(X)\n",
        "y=np.array(y)\n",
        "print(y)"
      ],
      "execution_count": 1564,
      "outputs": [
        {
          "output_type": "stream",
          "text": [
            "[[2.00e+00 7.40e+01 0.00e+00 ... 1.60e+01 3.25e+02 2.00e+00]\n",
            " [3.00e+00 7.40e+01 2.00e+00 ... 1.60e+01 3.25e+02 2.00e+00]\n",
            " [4.00e+00 7.40e+01 2.00e+00 ... 1.60e+01 3.25e+02 2.00e+00]\n",
            " ...\n",
            " [2.69e+03 6.30e+01 1.00e+00 ... 1.60e+01 3.25e+02 2.00e+00]\n",
            " [2.69e+03 6.30e+01 0.00e+00 ... 1.60e+01 3.25e+02 2.00e+00]\n",
            " [2.69e+03 2.40e+01 1.00e+00 ... 1.60e+01 3.25e+02 2.00e+00]]\n",
            "[2 2 2 ... 2 2 2]\n"
          ],
          "name": "stdout"
        }
      ]
    },
    {
      "cell_type": "code",
      "metadata": {
        "id": "meK71SSVjaRv"
      },
      "source": [
        ""
      ],
      "execution_count": 1564,
      "outputs": []
    },
    {
      "cell_type": "markdown",
      "metadata": {
        "id": "UVbek0exA3p1"
      },
      "source": [
        "despues debes estandanraizar los datos de X"
      ]
    },
    {
      "cell_type": "code",
      "metadata": {
        "colab": {
          "base_uri": "https://localhost:8080/"
        },
        "id": "RKuSaaVTXGko",
        "outputId": "242371f7-8f29-48c4-cd46-6d0e08d83af9"
      },
      "source": [
        "scaler=StandardScaler()\n",
        "X=scaler.fit_transform(X)\n",
        "X"
      ],
      "execution_count": 1565,
      "outputs": [
        {
          "output_type": "execute_result",
          "data": {
            "text/plain": [
              "array([[-1.76298841,  0.41581005, -1.61550127, ..., -0.18037621,\n",
              "         0.03509137,  0.18661334],\n",
              "       [-1.761723  ,  0.41581005,  2.21318072, ..., -0.18037621,\n",
              "         0.03509137,  0.18661334],\n",
              "       [-1.76045759,  0.41581005,  2.21318072, ..., -0.18037621,\n",
              "         0.03509137,  0.18661334],\n",
              "       ...,\n",
              "       [ 1.63843417, -0.17017443,  0.29883973, ..., -0.18037621,\n",
              "         0.03509137,  0.18661334],\n",
              "       [ 1.63843417, -0.17017443, -1.61550127, ..., -0.18037621,\n",
              "         0.03509137,  0.18661334],\n",
              "       [ 1.63843417, -2.24775577,  0.29883973, ..., -0.18037621,\n",
              "         0.03509137,  0.18661334]])"
            ]
          },
          "metadata": {
            "tags": []
          },
          "execution_count": 1565
        }
      ]
    },
    {
      "cell_type": "markdown",
      "metadata": {
        "id": "VMF4oHEMBoLA"
      },
      "source": [
        "**Finaliza el prepocesamiento**"
      ]
    },
    {
      "cell_type": "markdown",
      "metadata": {
        "id": "h_55dk2yGkX3"
      },
      "source": [
        "Realizamos las 10 particiones en cada vez que se ejecute el clasificador"
      ]
    },
    {
      "cell_type": "code",
      "metadata": {
        "id": "fSNnwVurG4_u",
        "colab": {
          "base_uri": "https://localhost:8080/"
        },
        "outputId": "d969ddc9-1f77-4c6d-f6f3-36d7cd14eb33"
      },
      "source": [
        "cv =StratifiedKFold(n_splits=10,random_state=0)\n",
        "cv.get_n_splits(X, y)\n"
      ],
      "execution_count": 1566,
      "outputs": [
        {
          "output_type": "stream",
          "text": [
            "/usr/local/lib/python3.7/dist-packages/sklearn/model_selection/_split.py:296: FutureWarning: Setting a random_state has no effect since shuffle is False. This will raise an error in 0.24. You should leave random_state to its default (None), or set shuffle=True.\n",
            "  FutureWarning\n"
          ],
          "name": "stderr"
        },
        {
          "output_type": "execute_result",
          "data": {
            "text/plain": [
              "10"
            ]
          },
          "metadata": {
            "tags": []
          },
          "execution_count": 1566
        }
      ]
    },
    {
      "cell_type": "markdown",
      "metadata": {
        "id": "0z7RTiSYg8YB"
      },
      "source": [
        "Funcion para graficar la matriz de confusion"
      ]
    },
    {
      "cell_type": "code",
      "metadata": {
        "id": "-qidPBNcXa8p"
      },
      "source": [
        "#hacer un funcion para graficar la matriz de confusion\n",
        "def matriz_confusion(matriz,title='Matrizde confusion',cmap=plt.cm.Blues):\n",
        "  plt.matshow(matriz,cmap=cmap)\n",
        "  plt.colorbar()\n"
      ],
      "execution_count": 1567,
      "outputs": []
    },
    {
      "cell_type": "markdown",
      "metadata": {
        "id": "iGj2MunFGant"
      },
      "source": [
        "**Empezar a realizar el entrenamiento en los datos ya procesados**"
      ]
    },
    {
      "cell_type": "code",
      "metadata": {
        "colab": {
          "base_uri": "https://localhost:8080/",
          "height": 1000
        },
        "id": "iAhtp-ngvPOT",
        "outputId": "35461560-68f7-4452-9e4d-71ef71907239"
      },
      "source": [
        "cont=0\n",
        "for train_index, test_index in cv.split(X,y):\n",
        "    cont+=1\n",
        "    print(\"TRAIN:\", cont)\n",
        "    X_train, X_test = X[train_index], X[test_index]\n",
        "    y_train, y_test = y[train_index], y[test_index]\n",
        "    print('**Red neuronal**')\n",
        "    mlp = MLPClassifier(hidden_layer_sizes=(10,10,10), max_iter=500, alpha=0.0001,solver='adam', random_state=300)\n",
        "    mlp.fit(X_train, y_train)\n",
        "    prediccion_y=mlp.predict(X_test)\n",
        "    score=mlp.score(X_test, y_test)\n",
        "    matriz=confusion_matrix(y_test, prediccion_y)\n",
        "    print('Prediccion y:\\n',prediccion_y)\n",
        "    print('Score Red Neuronal: ',score)\n",
        "    print(matriz)\n",
        "    matriz_confusion(matriz)\n",
        "    print('Arbol de decisión')\n",
        "    arbol = DecisionTreeClassifier(max_depth = 2, random_state = 21)\n",
        "    arbol.fit(X_train, y_train)\n",
        "    prediccionad=arbol.predict(X_test)\n",
        "    scoread=arbol.score(X_test, y_test)\n",
        "    print(\"Score Árbol de decisión: \", scoread)"
      ],
      "execution_count": 1568,
      "outputs": [
        {
          "output_type": "stream",
          "text": [
            "TRAIN: 1\n",
            "**Red neuronal**\n"
          ],
          "name": "stdout"
        },
        {
          "output_type": "stream",
          "text": [
            "/usr/local/lib/python3.7/dist-packages/sklearn/model_selection/_split.py:667: UserWarning: The least populated class in y has only 1 members, which is less than n_splits=10.\n",
            "  % (min_groups, self.n_splits)), UserWarning)\n"
          ],
          "name": "stderr"
        },
        {
          "output_type": "stream",
          "text": [
            "Prediccion y:\n",
            " [2 2 2 2 2 2 2 2 2 2 2 2 2 2 2 2 2 2 2 2 2 2 2 2 1 2 2 2 2 2 2 2 2 2 2 2 2\n",
            " 2 2 2 2 2 2 2 2 2 2 2 2 2 2 2 2 2 2 2 2 2 2 2 2 2 2 2 2 2 2 2 2 2 2 2 2 2\n",
            " 2 2 2 2 2 2 2 2 2 2 2 2 2 2 2 2 2 2 2 1 2 2 2 2 2 2 2 2 2 2 2 2 2 2 1 2 2\n",
            " 2 2 2 2 2 2 1 2 1 2 2 2 2 2 2 2 2 2 2 2 2 2 2 2 2 2 1 2 2 1 2 2 2 2 2 2 1\n",
            " 2 2 2 2 2 2 2 2 2 2 2 2 2 2 2 2 1 1 2 2 2 2 2 2 2 2 2 2 2 1 2 2 2 2 2 2 2\n",
            " 2 2 2 2 2 2 2 2 2 2 2 2 2 2 2 2 1 2 2 2 2 2 2 2 1 2 2 2 2 2 2 2 2 2 2 2 2\n",
            " 2 2 2 2 2 2 2 2 2 1 2 2 2 2 2 2 2 2 2 1 2 2 2 1 2 2 2 2 2 2 1 2 2 2 2 2 2\n",
            " 2 2 2 2 2 2 2 2 2 2 2 2 2 1 2 2 2 2 2 2 2 2 2 2 2 2 2 1 2 2 2 2 2 2 2 2 2\n",
            " 2 2 2 2 2 2 2 2 2 2 2 2 2 2 2 2 2 2 2 2 2 2 2 2 2 2 2 2 2 2 2 2 2 2 2 2 2\n",
            " 2 2 2 2 2 2 2 2 2 2 2 2 2 2 2 2 1 1 2 2 2 2 2 2 2 2 2 2 2 2 2 2 2 2 2 2 2\n",
            " 2 2 2 2 2 2 2 2 2 2 2 2 2 2 2 2 2 2 2 2 2 2 2 2 2 2 2 2 1 2 2 2 2 2 2 2 2\n",
            " 2 2 2 2 2 2 2 2 2 2 1 2 2 2 2 2 1 2 2 2 2 2 2 2 2 2 2 2 2 2 2 2 2 2 2 2 2\n",
            " 1 2 2 2 2 2 2 2 2 2 2 2 2 2 2 2 2 2 2 2 1 1 2 2 2 2 2 2 2 2 2 1 2 2 2 2 2\n",
            " 2 2 2 2 2 2 2 2 2 2 0 2 2 2 2 2 2 2 2 2 2 2 2 2 2 2 2 2 2 2 2 2 2 2 2 2 2\n",
            " 1 2 2 2 2 2 2 2 1 2 2 2 2 2 2 2 2 2 2 2 2 2 2 2 2 1 2 2 1 2 1 2 2 2 1 2 2\n",
            " 2 2 2 2 2 1 2 2 2 2 2 2 2 2 1 2 1 2 2 2 1 2 2 2 2 2 2 2 2 2 2 2 1 2 2 2 2\n",
            " 1 2 2 1 2 2 2 2 2 2 2 2 2 1 2 1 1 2 2 2 2 2 2 2 2 2 2 2 2 2 2 1 2 2 2 2 2\n",
            " 2 2 2 2 2 2 2 2 2 1 2 2 2 2 2 1 2 2 2 1 2 2 2 2 2 2 1 2 2 2 2 2 2 2 2 2 2\n",
            " 1 2 1 2 2 2 1 1 2 2 2 1 2 2 1 2 2 2 2 2 2 2 2 2 2 2 2 1 2 2 2 1 2 2 2 2 2\n",
            " 2 2 2 2 2 2 2 2 2 2 2 2 2 2 2 2 2 2 2 1 1 2 2 2 1 1 2 2 2 2 2 2 2 2 1 1 2\n",
            " 2 1 2 2 2 1 2 2 2 2 2 2 2 1 2 2 2 2 2 2 2 2 2 2 2 2 1 2 2 2 2 2 2 2 1 2 2\n",
            " 2 2 1 2 2 2 2 2 1 2 2 2 2 1 2 1 1 2 1 2 2 2 1 2 2 2 2 1 2 2 2 2 2 2 2 2 2\n",
            " 2 2 2 2 1 2 2 2 2 2 2 2 2 2 2 2 2 2 1 2 2 2 2 2 2 2 2 2 2 2 2 2 2 1 1 2 1\n",
            " 2 2 2 2 2 2 2 2 2 2 2 2 2 2 2 2 2 2 2 2 1 2 2 1 1 1 1 2 1 2 0 1 0 0 1 0 1\n",
            " 2]\n",
            "Score Red Neuronal:  0.7626546681664792\n",
            "[[  4  12   8   0   0   0]\n",
            " [  0  24 133   0   0   0]\n",
            " [  1  52 650   0   0   0]\n",
            " [  0   1   0   0   0   0]\n",
            " [  0   1   2   0   0   0]\n",
            " [  0   0   1   0   0   0]]\n",
            "Arbol de decisión\n",
            "Score Árbol de decisión:  0.7941507311586051\n",
            "TRAIN: 2\n",
            "**Red neuronal**\n",
            "Prediccion y:\n",
            " [2 2 2 2 2 2 2 2 2 0 2 1 2 2 2 2 2 0 2 2 2 2 2 2 2 2 2 2 2 2 1 2 2 2 2 1 2\n",
            " 1 2 1 2 2 1 2 2 0 2 1 2 2 2 2 1 2 2 2 2 2 2 2 2 2 2 1 2 2 2 2 2 2 2 2 2 2\n",
            " 2 2 2 2 2 2 2 2 2 2 2 2 2 2 1 2 2 2 2 2 2 2 2 2 2 2 1 1 1 2 2 2 1 2 2 2 2\n",
            " 2 2 2 2 2 2 2 2 2 2 2 2 2 2 2 2 1 2 2 2 2 2 2 2 2 2 2 2 2 2 2 2 2 2 2 2 2\n",
            " 2 2 2 2 2 1 2 0 1 2 2 2 2 2 2 2 2 2 2 2 2 2 2 2 2 2 2 2 2 2 2 2 2 2 2 2 2\n",
            " 2 2 2 2 2 2 2 2 2 1 2 2 2 2 2 2 2 2 2 2 2 2 2 2 1 2 1 2 2 2 0 2 2 2 2 2 2\n",
            " 2 2 2 2 2 2 2 2 2 2 2 2 2 2 2 2 2 2 2 2 2 0 2 2 2 2 1 2 2 2 2 2 2 2 2 2 2\n",
            " 2 2 2 2 2 2 2 2 2 2 2 2 1 2 2 2 2 2 2 2 2 0 2 2 2 2 2 2 2 2 2 2 2 2 2 2 2\n",
            " 2 2 2 2 2 2 2 2 2 2 2 2 1 2 2 2 2 2 2 2 2 2 2 2 2 2 2 2 2 2 2 1 2 2 2 2 2\n",
            " 2 2 0 2 2 0 2 2 2 2 2 0 2 2 2 2 2 2 2 2 2 2 2 2 2 2 2 2 2 1 2 2 2 2 1 2 2\n",
            " 2 2 2 2 2 2 2 2 2 2 1 2 2 2 2 2 2 2 2 2 1 2 2 2 2 2 2 2 2 1 0 2 2 2 2 2 2\n",
            " 2 2 2 2 2 2 2 2 2 2 1 2 2 2 2 2 2 2 2 1 2 2 2 2 2 2 1 2 2 2 1 2 2 2 2 1 2\n",
            " 2 2 2 2 1 2 1 2 2 2 2 1 2 2 2 2 2 2 2 2 2 2 2 2 2 2 2 2 2 2 2 2 2 2 1 1 1\n",
            " 2 2 0 1 0 0 2 0 0 0 0 0 0 0 0 0 0 0 0 0 0 0 0 0 0 0 0 0 0 0 0 1 0 0 0 0 0\n",
            " 1 1 0 1 0 0 0 0 1 1 1 0 1 1 1 1 2 0 0 0 1 0 0 1 0 1 0 0 0 0 1 0 0 1 1 0 0\n",
            " 0 0 0 0 0 0 0 0 0 0 1 1 0 1 0 0 0 0 0 0 0 1 1 0 1 1 1 1 1 1 1 1 0 0 1 0 0\n",
            " 1 1 1 0 0 1 1 0 0 0 0 0 0 0 1 0 0 0 0 0 0 0 0 2 2 2 2 2 2 2 2 2 2 2 2 2 1\n",
            " 2 2 2 2 2 2 2 2 2 2 1 2 2 2 2 2 2 2 2 2 2 2 2 2 2 1 2 2 2 2 2 2 2 2 2 2 2\n",
            " 2 2 2 2 2 2 2 2 2 2 2 2 2 2 2 1 2 2 2 2 2 2 2 2 2 2 2 2 2 2 2 2 2 2 2 1 2\n",
            " 2 2 2 1 2 2 2 2 2 2 2 2 1 2 2 2 2 2 2 2 2 2 2 2 2 2 2 2 2 1 2 2 2 2 2 2 2\n",
            " 2 2 2 2 2 2 2 2 2 1 2 2 2 2 2 2 2 2 1 2 2 2 2 2 2 2 2 2 2 2 2 2 2 2 2 2 2\n",
            " 2 2 2 2 2 2 2 2 2 1 2 1 2 2 2 2 2 2 2 2 2 2 2 2 2 2 2 1 2 2 2 2 2 2 2 2 2\n",
            " 2 2 1 1 2 2 2 2 2 2 2 2 2 2 2 2 2 2 2 2 2 2 2 2 2 1 2 1 2 2 2 2 2 2 2 2 1\n",
            " 2 2 2 2 1 2 2 2 2 2 2 2 2 2 2 2 2 2 2 2 2 2 2 2 2 2 1 2 2 2 2 2 2 2 2 2 2\n",
            " 2]\n",
            "Score Red Neuronal:  0.7109111361079865\n",
            "[[ 16   8   0   0   0   0]\n",
            " [ 33  27  97   0   0   0]\n",
            " [ 51  63 589   0   0   0]\n",
            " [  0   0   1   0   0   0]\n",
            " [  1   0   1   0   0   0]\n",
            " [  2   0   0   0   0   0]]\n",
            "Arbol de decisión\n",
            "Score Árbol de decisión:  0.7547806524184477\n",
            "TRAIN: 3\n",
            "**Red neuronal**\n",
            "Prediccion y:\n",
            " [1 2 0 1 0 0 1 1 1 0 0 2 0 0 2 0 0 2 0 2 0 0 1 0 0 0 0 0 0 0 0 0 0 0 0 0 0\n",
            " 0 0 0 0 0 0 0 1 0 0 0 1 0 0 0 0 0 0 0 0 2 2 2 2 2 2 1 2 2 2 1 2 1 2 2 2 2\n",
            " 2 2 2 1 2 2 2 2 1 2 2 2 2 2 2 2 2 2 1 2 2 2 2 2 1 2 1 2 2 2 1 2 2 1 2 2 2\n",
            " 1 2 2 2 2 2 2 2 1 1 2 1 2 2 1 2 2 2 1 2 2 2 2 2 2 2 2 2 2 2 2 2 2 2 2 2 2\n",
            " 2 2 2 2 1 2 2 2 2 2 2 2 2 2 2 2 2 2 2 2 2 2 2 2 2 2 2 2 2 2 2 2 1 2 2 1 2\n",
            " 2 2 2 2 2 2 2 2 2 2 2 2 2 2 2 2 2 2 2 2 2 2 2 2 2 2 2 2 2 2 2 2 2 2 2 2 2\n",
            " 2 2 2 2 2 2 2 2 2 2 2 2 2 2 2 2 2 2 2 2 2 2 2 2 2 2 2 2 2 2 2 2 2 2 2 2 2\n",
            " 2 2 2 2 2 2 2 2 2 2 2 1 2 2 2 2 2 2 2 2 2 1 2 2 2 2 2 2 2 2 2 2 2 2 2 2 2\n",
            " 1 2 2 2 2 2 2 2 2 2 1 2 2 1 2 2 2 1 1 2 2 2 2 2 2 2 2 2 2 2 1 2 1 2 2 2 2\n",
            " 2 2 1 2 2 2 2 2 2 2 2 2 2 2 2 2 2 2 2 2 2 1 2 2 2 2 2 2 2 2 2 2 2 2 2 2 2\n",
            " 1 2 2 2 2 2 2 2 2 2 2 2 2 2 2 2 2 2 2 2 2 2 2 2 2 2 2 2 2 2 2 2 2 2 1 2 2\n",
            " 2 2 2 2 2 1 2 2 2 2 2 2 1 2 2 2 2 2 2 2 2 2 2 2 2 2 1 2 2 2 2 2 2 2 2 2 2\n",
            " 2 2 2 2 2 2 2 2 2 2 2 2 2 2 1 1 2 2 2 2 2 2 2 2 2 2 2 2 2 2 2 2 1 2 2 2 2\n",
            " 2 2 2 2 2 2 2 2 2 2 2 2 2 2 2 2 2 2 2 2 2 2 2 2 2 2 2 2 2 2 2 2 2 2 2 2 2\n",
            " 2 2 2 2 2 2 2 2 2 2 2 2 2 2 2 2 2 2 2 2 2 2 2 2 2 2 2 2 2 2 2 2 2 2 2 2 2\n",
            " 2 2 2 2 2 2 2 2 2 2 2 2 2 2 2 2 2 2 2 2 2 2 2 2 2 1 2 2 2 2 2 2 2 2 2 2 2\n",
            " 2 2 2 2 2 2 1 2 2 2 2 2 1 2 2 2 2 2 2 2 2 2 2 2 2 2 2 2 2 2 2 2 2 2 2 2 2\n",
            " 1 2 2 2 2 2 2 2 2 2 2 2 2 2 2 2 2 2 2 2 1 2 2 2 2 2 2 2 2 2 2 2 2 2 2 2 2\n",
            " 2 2 2 2 2 2 2 2 2 2 2 2 2 2 2 2 2 2 2 2 2 2 2 2 2 2 2 2 2 2 2 2 2 2 2 2 2\n",
            " 2 2 2 2 2 2 2 2 2 2 2 2 2 2 2 2 2 2 2 2 2 2 2 2 2 2 2 2 2 2 2 2 2 2 2 2 2\n",
            " 2 2 2 2 2 2 2 2 2 2 2 2 2 2 2 2 2 2 2 2 2 2 2 2 2 2 2 2 2 2 2 2 2 2 2 2 2\n",
            " 2 2 2 2 2 2 2 2 2 2 2 2 2 2 2 2 2 2 2 2 2 2 2 2 2 2 2 2 2 2 2 2 2 2 2 2 2\n",
            " 2 2 2 2 2 2 2 2 2 2 2 2 2 2 2 2 2 2 2 2 2 2 2 2 2 2 2 2 2 2 2 2 2 2 2 2 2\n",
            " 2 2 2 2 2 2 2 2 2 2 2 2 2 2 2 2 2 2 2 2 2 2 2 2 2 2 2 2 2 2 2 2 2 2 2 2 2\n",
            " 2]\n",
            "Score Red Neuronal:  0.8380202474690663\n",
            "[[ 23   1   0   0   0   0   0]\n",
            " [ 19  34 104   0   0   0   0]\n",
            " [  0  15 688   0   0   0   0]\n",
            " [  0   0   1   0   0   0   0]\n",
            " [  0   1   0   0   0   0   0]\n",
            " [  0   0   1   0   0   0   0]\n",
            " [  2   0   0   0   0   0   0]]\n",
            "Arbol de decisión\n",
            "Score Árbol de decisión:  0.796400449943757\n",
            "TRAIN: 4\n",
            "**Red neuronal**\n",
            "Prediccion y:\n",
            " [0 0 0 0 0 0 0 0 0 0 0 0 0 0 0 0 0 0 0 0 0 0 0 0 0 0 0 2 1 2 2 2 2 2 2 2 2\n",
            " 2 2 2 2 2 2 2 2 2 2 2 2 2 2 2 2 2 2 2 2 2 2 2 2 2 2 2 2 2 2 2 2 2 2 2 2 2\n",
            " 2 2 2 2 2 2 2 2 2 2 2 2 2 2 2 2 2 2 2 2 2 2 2 2 2 2 2 2 2 2 2 2 2 2 2 2 2\n",
            " 2 2 2 2 2 2 2 2 2 2 2 2 2 2 2 2 2 2 2 2 2 2 2 2 2 2 2 1 2 2 2 2 2 2 2 2 2\n",
            " 2 2 2 2 2 2 2 2 2 2 2 2 2 2 2 2 2 2 2 2 2 2 2 2 2 2 2 2 2 2 2 2 2 2 2 2 2\n",
            " 2 2 2 2 2 2 2 2 2 2 2 2 2 2 2 2 2 2 2 2 2 2 2 2 2 2 2 2 2 2 2 2 2 2 2 2 2\n",
            " 2 2 2 2 2 2 2 2 2 2 2 2 2 2 2 2 2 2 2 2 2 2 2 2 2 2 2 2 2 2 2 2 2 2 2 2 2\n",
            " 2 2 2 2 2 2 2 2 2 2 2 2 2 2 2 2 2 2 2 2 2 2 2 2 2 2 2 2 2 2 2 2 2 2 2 2 2\n",
            " 2 2 2 2 2 2 2 2 2 2 2 2 2 2 2 2 2 2 2 1 2 2 2 2 2 2 2 2 2 2 2 2 2 2 2 2 2\n",
            " 2 2 2 2 2 2 2 2 2 2 2 2 2 2 2 2 2 2 2 2 2 2 2 2 2 2 2 2 2 2 2 2 2 2 2 2 2\n",
            " 2 2 2 2 2 2 2 2 2 2 2 2 2 2 2 2 2 2 2 2 2 2 2 2 2 2 1 2 2 2 2 2 2 2 2 2 2\n",
            " 2 2 2 2 2 2 2 2 2 2 2 2 2 2 2 2 2 2 2 2 2 2 2 2 2 2 2 2 2 2 2 2 2 1 2 2 2\n",
            " 2 2 2 2 2 2 2 2 2 2 2 2 2 2 1 2 2 2 1 2 2 2 2 2 1 2 2 2 2 2 2 2 2 2 2 2 2\n",
            " 2 2 2 2 2 2 2 2 2 1 2 2 2 2 2 2 2 2 2 2 2 2 2 2 1 2 1 2 2 2 2 2 2 2 2 2 2\n",
            " 2 2 2 1 2 2 2 2 2 2 2 2 2 2 2 2 2 2 2 2 2 2 1 2 1 2 2 2 2 2 2 2 2 2 2 2 2\n",
            " 2 2 2 2 2 2 2 2 2 2 2 2 2 2 2 2 2 2 2 2 2 2 2 2 2 2 2 2 2 2 2 1 2 2 2 2 2\n",
            " 2 2 2 2 2 2 2 2 2 2 2 2 2 2 2 2 2 2 2 2 2 2 2 2 2 2 2 2 2 2 2 2 2 2 2 1 2\n",
            " 2 2 2 2 2 1 2 2 2 2 2 2 2 2 2 2 2 2 2 1 2 2 2 2 2 2 2 2 2 1 2 2 2 2 2 2 2\n",
            " 2 2 2 2 2 2 2 1 2 1 2 2 2 2 2 2 2 2 2 2 2 2 2 2 2 1 2 2 2 2 2 2 2 2 2 2 2\n",
            " 2 2 2 2 2 2 2 2 2 2 2 2 2 2 2 2 2 2 2 2 2 2 2 1 2 2 2 2 2 2 2 2 2 2 2 2 2\n",
            " 2 2 2 2 2 2 2 2 2 2 2 2 2 2 2 2 2 2 2 2 1 2 2 2 1 2 2 2 2 2 1 2 2 2 1 2 2\n",
            " 2 2 2 2 2 2 2 2 1 2 2 1 1 2 2 1 2 2 2 2 2 2 2 2 2 2 2 2 2 1 2 2 2 2 2 2 2\n",
            " 2 2 1 2 2 1 2 2 2 2 2 2 2 2 2 2 2 2 1 1 1 2 2 2 2 2 1 2 2 2 2 2 2 1 1 2 2\n",
            " 2 1 2 2 2 2 2 2 2 2 2 2 2 2 2 2 2 2 2 2 2 2 2 2 2 2 2 2 2 2 2 2 2 2 1 2 2\n",
            " 2]\n",
            "Score Red Neuronal:  0.7795275590551181\n",
            "[[ 24   0   0   0   0   0   0]\n",
            " [  0   4 153   0   0   0   0]\n",
            " [  0  38 665   0   0   0   0]\n",
            " [  0   0   1   0   0   0   0]\n",
            " [  1   0   0   0   0   0   0]\n",
            " [  0   0   1   0   0   0   0]\n",
            " [  2   0   0   0   0   0   0]]\n",
            "Arbol de decisión\n",
            "Score Árbol de decisión:  0.8177727784026997\n",
            "TRAIN: 5\n",
            "**Red neuronal**\n",
            "Prediccion y:\n",
            " [1 0 0 0 0 0 0 0 0 0 0 0 1 0 0 0 0 0 0 0 0 0 0 0 0 0 2 2 2 2 2 2 2 2 2 2 2\n",
            " 2 2 2 2 1 2 2 2 2 2 2 2 2 2 2 2 2 2 2 1 2 2 2 2 2 2 2 1 2 2 1 2 2 2 2 2 2\n",
            " 2 2 2 2 1 2 2 1 1 2 2 2 2 2 2 2 2 2 2 2 2 2 2 2 2 2 2 1 2 2 1 2 2 2 2 2 2\n",
            " 2 2 2 2 2 2 2 2 2 2 2 2 2 2 2 2 1 2 2 2 2 2 2 2 2 2 2 2 2 1 2 2 2 2 2 2 1\n",
            " 2 2 2 2 1 2 2 2 2 2 2 2 2 2 2 2 2 2 2 1 2 2 2 2 2 1 2 2 2 2 2 1 2 2 2 2 2\n",
            " 2 2 2 2 2 2 2 2 2 2 2 2 2 2 2 2 2 2 2 2 2 2 2 1 2 2 2 2 1 2 2 2 2 2 1 2 2\n",
            " 2 2 2 2 2 2 2 1 2 2 2 1 2 2 2 2 2 1 2 1 2 2 2 2 2 2 2 2 2 2 2 2 2 2 2 2 2\n",
            " 2 2 2 2 2 2 2 2 2 2 2 2 2 2 2 2 2 2 2 2 1 2 2 1 2 1 2 2 2 2 2 2 2 2 1 2 2\n",
            " 2 2 2 2 2 2 2 2 2 2 2 2 2 2 2 2 2 2 2 2 2 2 2 2 2 1 2 2 2 2 2 2 2 2 2 2 2\n",
            " 2 2 2 2 2 2 2 2 2 2 2 2 2 2 2 2 2 2 2 2 2 2 2 2 2 2 2 2 2 2 2 2 2 2 2 2 2\n",
            " 2 2 2 2 2 2 2 2 2 2 2 2 2 2 2 2 2 2 2 2 2 2 2 2 2 2 2 2 2 2 2 1 2 2 2 2 2\n",
            " 2 2 2 2 2 2 2 2 2 2 1 2 2 2 1 2 1 2 2 2 2 2 2 1 2 2 2 2 2 2 2 2 1 2 2 2 2\n",
            " 2 2 1 2 2 2 2 2 2 2 2 2 2 2 2 2 2 2 2 2 2 2 1 2 2 1 2 2 1 2 2 2 2 2 2 2 2\n",
            " 2 1 1 2 2 2 2 2 2 2 2 2 2 1 2 2 2 2 2 2 2 2 2 2 2 2 2 2 2 2 2 2 2 1 2 1 2\n",
            " 2 2 2 2 2 2 2 2 2 2 2 1 2 2 2 2 2 2 2 2 2 2 2 2 2 2 2 2 2 2 2 2 2 2 2 2 2\n",
            " 2 2 2 2 2 2 2 2 2 2 2 2 2 2 2 2 2 2 2 2 2 2 2 2 2 2 2 2 2 2 2 2 2 2 2 2 2\n",
            " 2 2 2 2 2 2 2 2 2 2 2 2 2 2 2 2 2 1 2 2 2 2 2 2 2 2 2 2 2 2 2 1 2 2 2 2 2\n",
            " 2 1 2 2 2 2 1 2 2 2 2 1 2 2 2 2 2 2 2 2 2 2 2 1 2 2 2 2 2 2 2 2 2 2 2 2 2\n",
            " 2 2 2 2 2 2 2 2 1 2 2 2 1 2 2 2 2 2 2 2 2 2 2 2 2 2 2 2 2 2 2 2 2 2 2 2 2\n",
            " 2 2 2 2 2 2 2 2 2 2 2 2 2 2 2 2 2 2 2 2 2 2 2 2 2 2 1 2 2 2 2 1 2 2 2 2 2\n",
            " 2 2 2 2 2 2 2 2 2 2 2 2 2 2 2 2 2 2 2 2 2 2 2 2 2 2 2 2 2 2 2 2 2 2 2 2 2\n",
            " 2 2 2 2 2 2 2 2 2 2 2 2 2 2 2 2 2 2 2 2 2 2 1 2 2 2 2 2 2 2 2 2 2 2 2 2 2\n",
            " 2 2 2 2 2 1 2 2 2 2 2 2 2 2 2 2 2 2 2 2 2 2 2 2 2 2 2 2 2 2 2 2 2 2 2 2 2\n",
            " 1 2 2 2 2 2 2 2 2 2 2 2 2 2 2 2 2 2 2 2 2 2 2 2 2 2 2 2 2 2 2 2 2 2 2 2 2\n",
            " 2]\n",
            "Score Red Neuronal:  0.8188976377952756\n",
            "[[ 22   1   0   0   0   0   0]\n",
            " [  0  30 127   0   0   0   0]\n",
            " [  0  27 676   0   0   0   0]\n",
            " [  0   0   1   0   0   0   0]\n",
            " [  0   1   0   0   0   0   0]\n",
            " [  0   0   1   0   0   0   0]\n",
            " [  2   0   1   0   0   0   0]]\n",
            "Arbol de decisión\n",
            "Score Árbol de decisión:  0.8166479190101237\n",
            "TRAIN: 6\n",
            "**Red neuronal**\n",
            "Prediccion y:\n",
            " [0 0 0 0 0 0 0 0 0 0 0 0 0 0 0 0 0 0 0 0 0 0 0 1 2 2 2 1 2 2 2 2 2 2 2 2 2\n",
            " 2 2 2 2 2 2 2 2 1 2 2 1 2 2 1 1 2 2 2 2 2 2 2 2 1 2 2 2 1 2 2 2 2 2 1 2 2\n",
            " 2 2 2 2 2 2 2 2 2 2 2 2 1 2 2 1 2 2 2 2 2 2 1 1 2 1 2 2 2 2 1 2 2 1 2 1 1\n",
            " 2 2 2 2 2 2 1 2 2 1 1 2 1 1 2 2 2 2 2 2 2 2 2 2 2 2 2 2 2 2 2 2 2 2 2 2 2\n",
            " 2 2 2 2 2 2 2 2 2 2 2 2 2 1 2 2 2 2 2 2 2 2 2 2 2 2 2 2 2 2 2 1 2 2 2 2 1\n",
            " 2 2 2 2 2 2 2 2 2 2 1 2 2 2 2 1 1 2 2 2 2 2 2 2 2 2 2 2 2 2 2 2 2 2 2 2 2\n",
            " 1 2 1 2 2 2 2 2 2 2 2 1 2 2 2 2 2 2 2 2 1 2 2 2 1 2 2 2 2 2 2 2 2 2 2 1 2\n",
            " 2 2 2 2 2 2 2 2 2 2 2 2 2 2 2 2 1 2 2 2 2 2 2 2 2 2 2 2 1 2 2 2 2 2 2 2 2\n",
            " 2 2 2 2 2 2 2 2 2 2 2 2 2 2 2 1 2 2 2 2 2 2 2 2 2 2 2 2 2 2 2 2 2 2 2 2 2\n",
            " 2 2 2 2 2 2 2 2 2 2 2 1 2 2 2 2 2 2 2 2 2 2 2 2 2 2 2 2 2 2 1 2 2 2 2 2 1\n",
            " 2 1 2 2 1 2 2 2 2 2 2 2 2 2 2 2 2 2 2 2 2 2 1 2 2 2 2 1 2 2 2 2 2 2 2 2 2\n",
            " 2 2 2 2 2 2 2 2 1 2 2 1 2 2 2 2 2 2 2 2 2 2 2 2 2 2 1 2 2 2 2 2 1 2 2 2 2\n",
            " 2 2 2 2 2 2 2 2 2 2 2 2 1 2 2 2 1 1 2 1 2 2 2 2 2 2 2 2 2 2 2 2 2 2 2 2 2\n",
            " 2 2 2 2 2 2 2 2 2 2 2 2 2 2 2 2 1 2 2 1 2 2 2 2 2 2 2 2 2 2 2 2 2 2 2 2 2\n",
            " 2 1 2 2 2 2 2 2 2 2 2 1 2 2 2 2 2 2 2 2 2 2 2 2 2 2 2 2 2 2 2 2 2 2 2 2 2\n",
            " 2 2 2 2 2 2 2 2 2 2 2 2 2 1 2 2 2 2 2 2 2 2 2 2 2 2 2 2 2 2 2 2 2 2 2 2 2\n",
            " 2 2 2 2 1 2 2 2 2 2 2 2 1 2 2 2 2 2 2 2 2 2 2 2 2 2 2 2 2 2 2 2 2 2 2 2 2\n",
            " 2 2 2 2 2 2 2 2 2 2 2 2 2 2 2 2 2 1 2 2 2 1 2 2 2 2 2 2 2 2 2 1 2 2 2 2 2\n",
            " 2 2 2 2 2 2 2 1 2 2 2 2 2 2 2 2 2 2 2 2 2 2 2 2 2 2 2 2 2 2 2 2 2 2 2 2 2\n",
            " 2 2 2 1 2 2 2 2 2 2 2 2 2 2 2 2 2 2 2 2 2 2 2 2 2 2 2 2 2 2 2 2 2 2 2 2 2\n",
            " 2 2 2 2 2 2 2 1 2 2 2 2 2 2 2 2 2 2 2 2 2 2 2 2 2 2 2 2 2 2 1 2 2 2 2 2 2\n",
            " 2 2 1 2 2 2 2 2 2 2 2 1 2 2 2 2 2 2 2 2 1 2 2 2 2 2 2 2 2 2 2 2 2 2 2 2 2\n",
            " 2 2 2 2 2 2 1 2 2 2 2 2 2 2 2 2 2 2 2 2 2 2 2 2 2 2 2 2 2 2 2 2 2 2 2 2 2\n",
            " 2 2 2 2 2 2 2 2 2 2 2 2 2 2 2 2 2 2 2 2 2 2 2 2 2 2 2 2 2 2 2 2 2 2 2 2 2]\n",
            "Score Red Neuronal:  0.831081081081081\n",
            "[[ 22   1   0   0   0   0]\n",
            " [  0  41 116   0   0   0]\n",
            " [  0  28 675   0   0   0]\n",
            " [  0   1   0   0   0   0]\n",
            " [  1   0   0   0   0   0]\n",
            " [  0   0   3   0   0   0]]\n",
            "Arbol de decisión\n",
            "Score Árbol de decisión:  0.8175675675675675\n",
            "TRAIN: 7\n",
            "**Red neuronal**\n",
            "Prediccion y:\n",
            " [0 0 0 0 0 0 0 0 0 0 0 0 0 0 0 0 0 0 0 0 0 0 0 0 2 2 2 2 2 2 2 2 2 2 2 2 2\n",
            " 2 2 2 2 2 2 2 2 2 2 2 1 2 2 2 2 2 2 2 2 1 2 2 2 2 2 2 2 2 2 2 2 1 2 2 1 2\n",
            " 2 2 2 2 2 2 2 1 2 2 2 2 2 1 2 2 2 2 2 2 2 2 2 2 2 2 2 1 2 2 2 1 2 2 2 2 2\n",
            " 2 2 2 2 2 2 2 2 2 2 2 2 2 2 2 2 2 2 2 2 2 2 2 2 2 2 2 2 2 2 2 2 2 2 2 2 2\n",
            " 2 2 2 2 2 2 2 2 2 2 2 2 2 2 2 2 2 2 2 2 2 2 2 2 2 2 2 2 2 2 2 2 2 2 2 2 2\n",
            " 1 2 2 2 2 2 2 2 2 2 2 2 2 2 2 2 2 2 2 2 2 2 2 1 2 2 2 2 2 2 2 2 2 2 2 2 2\n",
            " 2 2 2 2 2 2 2 2 2 2 2 2 2 2 2 2 2 2 2 2 2 2 2 2 2 2 2 2 1 2 2 2 2 2 2 2 2\n",
            " 2 2 2 2 2 2 2 2 2 2 2 2 2 2 2 2 2 2 2 2 2 2 2 2 2 2 2 2 2 2 2 2 2 2 2 2 2\n",
            " 2 2 2 1 2 2 2 2 2 2 2 2 2 2 2 2 2 2 2 1 2 2 2 2 2 2 2 2 2 2 2 2 2 2 2 2 2\n",
            " 2 2 2 2 2 2 2 2 2 2 2 2 2 1 2 2 2 2 2 2 2 2 2 2 2 2 2 2 2 2 2 1 2 2 2 2 2\n",
            " 2 2 2 2 2 2 2 2 2 2 2 2 2 2 2 2 2 2 2 2 2 2 2 2 2 2 2 2 2 2 2 2 2 2 2 2 2\n",
            " 2 2 2 2 2 2 2 2 2 2 2 1 2 2 2 2 2 2 2 2 2 2 2 2 2 2 2 2 2 2 2 2 2 2 2 2 2\n",
            " 2 2 2 2 2 2 2 2 2 2 2 2 2 2 2 2 2 2 2 1 2 2 2 2 2 2 2 2 2 2 2 2 2 2 2 2 2\n",
            " 2 2 2 2 2 2 2 2 2 2 2 2 2 2 2 2 2 2 2 2 2 1 2 2 2 2 2 2 2 2 2 2 2 2 2 2 2\n",
            " 2 2 1 2 2 2 2 2 2 2 2 2 2 2 2 2 2 2 2 2 2 2 2 2 2 2 2 2 2 2 2 2 2 2 2 2 2\n",
            " 2 2 2 2 2 2 2 2 2 1 2 2 2 2 2 2 2 2 2 2 2 2 2 2 2 2 2 2 2 2 2 2 2 2 2 2 2\n",
            " 2 2 2 2 2 2 2 2 2 2 2 2 2 2 2 2 2 2 2 2 2 2 2 2 2 2 2 2 2 2 2 2 2 2 2 2 2\n",
            " 2 2 2 2 2 2 2 2 2 2 2 2 2 2 2 2 2 2 2 2 2 2 2 2 2 2 2 2 2 2 2 2 2 2 2 2 2\n",
            " 2 2 2 2 2 2 2 2 2 2 2 2 2 2 2 2 2 2 2 2 2 2 2 2 2 2 2 1 2 2 2 2 2 2 2 2 2\n",
            " 2 2 2 2 2 2 2 2 2 2 2 2 2 2 2 2 2 2 2 2 2 2 2 2 2 2 2 2 2 2 2 2 2 2 2 2 2\n",
            " 2 2 2 2 2 2 2 2 2 2 2 2 2 2 2 2 2 2 2 2 2 2 2 2 2 2 2 2 2 2 2 2 2 2 2 2 2\n",
            " 2 2 2 2 2 2 2 2 2 2 2 2 2 2 2 2 2 2 2 2 2 2 2 2 2 2 2 2 2 2 2 2 2 2 2 2 2\n",
            " 2 2 2 2 2 2 2 2 2 2 2 2 2 2 2 2 2 2 2 2 2 2 2 2 2 2 2 2 2 2 2 2 2 2 2 2 2\n",
            " 2 2 2 2 2 2 2 2 2 2 2 2 2 2 2 2 2 2 2 2 2 1 2 2 2 2 2 2 2 2 2 2 2 2 2 2 2]\n",
            "Score Red Neuronal:  0.8243243243243243\n",
            "[[ 23   0   0   0   0   0]\n",
            " [  0  14 143   0   0   0]\n",
            " [  0   8 695   0   0   0]\n",
            " [  0   0   1   0   0   0]\n",
            " [  1   0   0   0   0   0]\n",
            " [  0   0   3   0   0   0]]\n",
            "Arbol de decisión\n",
            "Score Árbol de decisión:  0.8175675675675675\n",
            "TRAIN: 8\n",
            "**Red neuronal**\n",
            "Prediccion y:\n",
            " [0 0 0 0 0 0 0 0 0 0 0 0 0 0 0 0 0 0 0 0 0 2 2 2 2 2 2 2 2 2 2 2 2 2 2 2 2\n",
            " 2 2 2 2 2 2 2 2 2 2 2 2 2 2 2 2 2 2 2 2 2 2 2 2 2 1 2 2 2 2 2 2 2 2 2 2 2\n",
            " 2 2 2 2 2 2 1 2 2 2 1 2 2 2 2 2 2 2 2 2 2 2 2 2 2 2 2 2 2 2 2 2 2 2 2 2 2\n",
            " 2 2 2 2 2 2 1 2 2 2 2 2 2 2 2 2 1 2 2 2 2 2 1 2 2 2 2 2 2 2 1 2 2 2 2 2 2\n",
            " 2 2 2 2 2 2 2 2 2 2 2 2 2 2 2 2 2 2 1 2 2 2 1 2 1 1 2 2 2 2 0 2 2 1 2 1 1\n",
            " 2 2 1 2 2 2 2 1 1 2 2 1 2 2 1 1 2 2 1 1 1 1 1 2 2 2 1 2 2 2 2 2 2 1 2 2 2\n",
            " 2 2 2 1 2 1 2 1 2 2 2 2 2 2 2 2 1 2 2 1 2 2 2 2 1 2 2 2 2 2 1 2 1 1 2 1 2\n",
            " 2 2 2 2 2 1 1 2 2 2 2 2 2 2 2 2 1 2 2 2 2 2 2 2 2 2 1 2 2 2 2 2 2 2 1 1 2\n",
            " 2 2 2 2 2 2 2 2 2 1 2 2 2 2 2 2 2 2 1 2 2 2 1 2 2 2 2 2 2 2 2 1 2 2 2 2 1\n",
            " 2 2 2 1 2 2 2 2 2 2 2 2 2 2 2 2 2 2 2 2 1 2 2 2 2 2 1 1 2 2 2 2 2 2 2 2 2\n",
            " 2 2 2 2 2 2 2 1 1 2 2 2 2 2 1 2 2 1 2 2 2 2 2 2 2 2 2 2 2 2 2 2 2 2 1 2 2\n",
            " 2 1 2 2 2 2 2 2 1 2 2 2 2 2 1 2 2 2 2 2 2 2 2 2 1 2 2 2 2 2 2 2 1 1 1 1 2\n",
            " 2 2 2 1 1 2 1 2 2 2 2 1 2 2 2 2 2 2 2 2 2 2 1 2 1 2 2 2 2 1 1 2 2 2 2 2 2\n",
            " 2 2 2 2 2 2 2 2 2 1 2 2 2 1 2 2 2 1 2 1 2 1 2 2 2 2 2 2 2 1 2 1 2 2 2 1 2\n",
            " 2 1 1 2 2 2 2 2 2 1 2 2 2 2 2 2 2 2 2 2 2 2 2 2 1 2 2 2 2 2 1 1 2 2 1 1 2\n",
            " 1 2 1 2 2 2 2 2 1 2 2 2 2 1 1 1 2 2 2 2 2 2 2 2 2 2 1 2 2 2 1 2 2 1 2 2 2\n",
            " 2 2 2 2 2 2 2 1 1 1 2 2 2 1 2 2 2 2 2 2 2 2 2 2 2 2 1 2 2 2 2 1 2 2 2 2 2\n",
            " 2 2 2 2 2 2 2 2 2 2 1 1 2 2 1 2 1 2 2 2 2 2 2 2 1 2 1 2 2 2 2 2 2 2 2 2 2\n",
            " 0 1 2 2 2 2 2 2 1 2 2 2 2 1 2 1 2 2 2 1 2 2 2 2 2 2 1 2 2 2 2 2 2 2 2 2 1\n",
            " 2 2 2 2 2 2 2 2 2 2 2 2 2 2 1 1 2 1 2 2 2 2 2 2 2 2 2 1 2 2 2 2 2 2 1 2 1\n",
            " 1 2 2 2 2 2 1 2 2 2 1 2 2 2 2 2 2 2 2 2 2 2 2 2 2 2 2 2 2 2 2 2 1 2 2 2 2\n",
            " 2 2 2 2 1 2 1 1 2 2 2 2 2 2 2 2 2 2 2 2 1 2 2 2 1 2 2 2 2 2 2 2 2 2 2 2 2\n",
            " 1 2 1 2 2 2 2 2 2 2 1 2 2 2 2 2 1 2 2 2 2 2 2 2 2 2 2 2 1 2 2 1 2 2 2 2 2\n",
            " 2 2 2 2 1 2 2 2 2 2 2 2 2 2 2 2 2 2 2 2 2 2 2 2 2 2 2 1 2 2 1 2 2 2 2 2 2]\n",
            "Score Red Neuronal:  0.7150900900900901\n",
            "[[ 21   0   3   0   0   0]\n",
            " [  1  26 129   0   0   0]\n",
            " [  0 115 588   0   0   0]\n",
            " [  0   0   1   0   0   0]\n",
            " [  0   0   1   0   0   0]\n",
            " [  1   0   2   0   0   0]]\n",
            "Arbol de decisión\n",
            "Score Árbol de decisión:  0.8153153153153153\n",
            "TRAIN: 9\n",
            "**Red neuronal**\n",
            "Prediccion y:\n",
            " [2 2 2 2 2 2 2 2 2 2 2 2 2 2 2 2 2 2 2 2 2 2 2 2 2 2 2 2 2 2 2 2 2 2 2 2 2\n",
            " 2 2 2 2 2 2 2 2 2 2 2 2 2 2 2 2 2 2 2 2 2 2 2 2 2 2 2 2 2 2 2 2 2 2 2 2 2\n",
            " 2 2 2 2 2 2 2 2 2 2 0 2 2 2 0 2 2 2 2 2 2 2 2 2 2 2 2 2 2 1 2 2 2 2 2 2 2\n",
            " 2 2 2 2 2 0 2 2 2 2 2 2 2 2 2 2 2 2 2 2 2 2 2 2 2 2 2 2 2 2 2 2 2 2 2 2 2\n",
            " 2 2 2 2 2 2 2 2 2 2 2 2 2 2 2 2 2 2 2 2 2 2 2 2 2 2 2 2 2 2 2 2 2 2 2 2 2\n",
            " 2 2 2 2 2 2 2 2 2 2 2 2 2 2 2 2 2 2 2 2 2 2 2 2 2 2 2 2 2 2 2 2 2 2 2 2 2\n",
            " 2 2 2 2 2 2 2 2 2 2 2 2 2 2 2 2 2 2 2 2 2 2 2 2 2 2 2 2 2 2 2 2 2 2 2 2 2\n",
            " 2 2 2 2 2 2 2 2 2 2 2 2 2 2 2 2 1 2 2 2 2 2 2 2 2 2 2 2 1 2 2 2 2 2 2 2 2\n",
            " 2 2 2 2 2 2 2 2 2 2 2 2 2 2 2 2 2 2 2 2 2 2 2 2 2 2 2 2 2 2 2 2 2 2 2 2 2\n",
            " 2 2 2 2 2 2 2 2 2 2 2 2 2 2 2 2 2 2 2 2 2 2 2 2 2 2 2 2 2 2 2 2 2 2 2 2 2\n",
            " 2 2 2 2 2 2 2 2 2 2 2 2 2 2 2 2 2 2 2 2 2 2 2 2 2 2 2 2 2 2 2 2 2 2 2 2 2\n",
            " 2 2 2 2 2 2 2 2 2 2 2 2 2 2 2 2 2 2 2 2 2 2 2 2 2 2 2 2 2 2 2 2 2 2 2 2 2\n",
            " 2 2 2 2 2 2 2 2 2 2 2 2 2 2 2 2 2 2 2 2 2 2 2 2 2 2 2 2 2 2 2 2 2 2 2 2 2\n",
            " 2 2 2 2 2 2 2 2 2 2 2 2 2 2 2 2 2 2 2 2 2 2 2 2 2 2 2 2 2 2 2 2 2 2 2 2 2\n",
            " 2 2 1 1 2 2 2 2 2 2 2 2 2 2 2 2 2 2 2 2 2 2 2 2 2 2 2 2 2 2 2 2 2 2 2 2 2\n",
            " 2 2 1 2 2 2 2 2 2 2 2 2 2 2 2 2 2 2 2 2 2 2 2 2 2 2 2 2 2 2 2 2 2 2 2 2 2\n",
            " 2 2 2 2 2 2 2 2 2 2 2 2 2 2 2 2 2 2 2 2 2 2 2 2 1 2 2 2 2 2 2 2 2 2 2 2 2\n",
            " 2 2 2 2 2 2 2 2 2 2 2 2 2 2 2 2 2 2 2 2 2 2 2 2 2 2 2 2 2 2 2 2 2 2 2 2 2\n",
            " 2 2 2 2 2 2 2 2 2 2 2 2 2 2 2 2 2 2 2 2 2 2 2 2 2 2 2 2 2 2 2 2 2 2 2 2 2\n",
            " 2 2 2 2 2 2 2 2 2 2 2 2 2 2 2 2 2 2 2 2 2 2 2 2 2 2 2 2 2 2 2 2 2 2 2 2 2\n",
            " 2 1 2 2 2 2 2 2 2 2 2 2 2 2 2 2 2 2 2 2 2 2 2 2 0 2 2 2 2 2 2 2 2 2 2 2 2\n",
            " 2 2 2 1 2 2 2 2 2 2 2 2 2 2 2 2 2 2 2 2 2 2 2 2 2 2 2 2 2 2 2 2 2 2 2 2 2\n",
            " 2 2 2 2 2 2 2 2 2 2 2 2 2 2 2 2 1 2 2 2 2 2 2 2 2 2 2 2 2 2 2 0 2 2 2 2 2\n",
            " 2 2 2 2 2 2 2 2 0 2 1 2 2 2 2 2 2 2 2 2 2 2 2 2 2 2 1 2 2 2 2 2 2 2 2 2 2]\n",
            "Score Red Neuronal:  0.7837837837837838\n",
            "[[  2   0  22   0   0   0]\n",
            " [  1   3 152   0   0   0]\n",
            " [  3   9 691   0   0   0]\n",
            " [  0   0   1   0   0   0]\n",
            " [  0   0   1   0   0   0]\n",
            " [  0   0   3   0   0   0]]\n",
            "Arbol de decisión\n",
            "Score Árbol de decisión:  0.7916666666666666\n",
            "TRAIN: 10\n",
            "**Red neuronal**\n",
            "Prediccion y:\n",
            " [2 2 1 2 2 1 2 2 1 1 2 2 2 1 2 2 2 2 1 2 2 2 2 2 2 1 2 2 2 2 2 2 0 2 2 2 2\n",
            " 2 2 1 2 2 2 2 2 2 2 2 2 2 2 2 2 2 2 2 2 1 2 2 2 2 2 2 2 2 2 1 2 2 2 1 2 2\n",
            " 2 2 2 2 2 2 2 2 2 2 2 2 2 2 2 2 2 2 2 2 2 2 2 2 2 2 2 2 2 2 2 2 2 2 2 2 2\n",
            " 2 2 2 2 2 2 2 2 2 2 2 2 2 2 2 2 2 2 2 2 2 2 2 1 2 1 2 2 2 2 2 2 2 2 2 2 1\n",
            " 2 2 2 2 2 2 2 2 2 2 2 2 2 2 2 2 2 2 2 2 2 2 2 2 2 2 2 2 2 2 2 2 2 2 2 2 2\n",
            " 2 2 2 2 2 2 1 2 2 2 2 2 2 2 1 2 2 2 2 2 1 2 2 2 2 2 2 2 2 2 2 2 1 2 2 2 2\n",
            " 2 2 2 2 2 2 2 2 2 2 2 2 2 2 2 2 2 2 2 2 2 2 2 2 2 2 2 2 2 2 2 2 2 2 2 2 2\n",
            " 2 2 2 2 2 2 2 2 2 2 2 2 2 1 2 2 2 2 2 2 2 2 2 2 2 2 2 2 2 2 2 2 2 2 2 2 2\n",
            " 2 2 2 2 2 2 2 2 2 2 2 2 2 2 2 2 2 2 2 1 2 2 2 2 2 2 2 2 2 2 2 1 2 2 2 2 1\n",
            " 2 2 2 2 2 2 2 2 2 2 2 2 2 2 2 2 2 2 2 2 2 2 2 2 2 2 2 2 2 2 2 2 2 2 2 2 2\n",
            " 2 2 2 2 2 2 2 2 2 2 2 2 1 2 2 2 2 2 2 2 2 2 2 2 2 2 2 2 2 2 1 2 2 2 2 2 2\n",
            " 1 2 2 2 2 2 2 2 2 2 2 2 2 2 2 2 2 2 2 2 2 2 2 2 2 2 2 2 2 2 2 2 1 2 2 2 2\n",
            " 2 2 2 2 2 2 2 2 2 2 2 2 2 2 2 2 2 2 2 2 1 2 2 2 2 2 2 2 2 2 2 2 2 2 2 2 2\n",
            " 2 2 2 2 2 2 2 2 2 2 2 2 2 2 2 2 2 2 2 2 2 2 2 2 2 2 2 2 2 2 2 2 2 2 2 2 2\n",
            " 2 2 2 2 1 2 2 2 2 2 2 2 2 2 2 2 2 2 2 2 2 2 2 2 2 2 2 2 2 2 2 2 2 2 2 2 2\n",
            " 2 2 2 2 2 2 2 2 2 2 2 2 2 1 2 2 2 2 2 2 2 2 1 2 2 2 2 2 2 2 2 2 2 2 2 2 2\n",
            " 2 2 2 2 2 2 2 2 2 2 2 2 2 2 2 2 2 2 2 2 2 2 2 2 2 2 2 2 2 2 2 2 2 2 2 2 2\n",
            " 2 1 2 2 2 2 2 2 2 2 2 2 2 2 2 2 2 2 2 2 2 2 2 2 2 1 2 2 2 2 2 2 2 2 2 2 2\n",
            " 2 2 2 2 2 2 2 2 2 2 2 2 2 2 2 2 1 2 2 2 2 2 2 2 1 2 2 2 2 2 2 2 2 2 2 2 2\n",
            " 2 2 2 2 2 2 2 2 2 2 2 2 2 2 2 2 2 2 2 2 2 2 2 2 2 1 2 2 2 2 2 2 2 2 2 2 2\n",
            " 2 2 2 2 2 2 2 2 2 2 2 2 2 2 2 2 2 2 2 2 2 2 2 2 2 2 2 2 2 2 2 2 2 2 2 2 2\n",
            " 2 2 2 2 2 2 2 2 2 2 2 2 2 2 2 2 2 2 2 2 2 2 1 2 2 2 2 2 2 2 2 2 2 2 2 2 2\n",
            " 2 2 2 2 2 2 2 2 2 2 2 2 2 2 2 2 2 2 2 2 2 2 2 2 2 2 2 2 2 2 2 2 2 2 2 2 2\n",
            " 2 2 2 2 2 2 2 2 2 2 2 2 2 2 2 2 2 2 2 2 2 2 2 2 2 2 2 2 1 2 2 2 2 2 2 2 2]\n",
            "Score Red Neuronal:  0.786036036036036\n",
            "[[  0   7  17   0   0   0]\n",
            " [  1  13 143   0   0   0]\n",
            " [  0  17 685   0   0   0]\n",
            " [  0   0   1   0   0   0]\n",
            " [  0   0   1   0   0   0]\n",
            " [  0   0   3   0   0   0]]\n",
            "Arbol de decisión\n",
            "Score Árbol de decisión:  0.7905405405405406\n"
          ],
          "name": "stdout"
        },
        {
          "output_type": "display_data",
          "data": {
            "image/png": "[encoded data removed]",
            "text/plain": [
              "<Figure size 288x288 with 2 Axes>"
            ]
          },
          "metadata": {
            "tags": [],
            "needs_background": "light"
          }
        },
        {
          "output_type": "display_data",
          "data": {
            "image/png": "[encoded data removed]",
            "text/plain": [
              "<Figure size 288x288 with 2 Axes>"
            ]
          },
          "metadata": {
            "tags": [],
            "needs_background": "light"
          }
        },
        {
          "output_type": "display_data",
          "data": {
            "image/png": "[encoded data removed]",
            "text/plain": [
              "<Figure size 288x288 with 2 Axes>"
            ]
          },
          "metadata": {
            "tags": [],
            "needs_background": "light"
          }
        },
        {
          "output_type": "display_data",
          "data": {
            "image/png": "[encoded data removed]",
            "text/plain": [
              "<Figure size 288x288 with 2 Axes>"
            ]
          },
          "metadata": {
            "tags": [],
            "needs_background": "light"
          }
        },
        {
          "output_type": "display_data",
          "data": {
            "image/png": "[encoded data removed]",
            "text/plain": [
              "<Figure size 288x288 with 2 Axes>"
            ]
          },
          "metadata": {
            "tags": [],
            "needs_background": "light"
          }
        },
        {
          "output_type": "display_data",
          "data": {
            "image/png": "[encoded data removed]",
            "text/plain": [
              "<Figure size 288x288 with 2 Axes>"
            ]
          },
          "metadata": {
            "tags": [],
            "needs_background": "light"
          }
        },
        {
          "output_type": "display_data",
          "data": {
            "image/png": "[encoded data removed]",
            "text/plain": [
              "<Figure size 288x288 with 2 Axes>"
            ]
          },
          "metadata": {
            "tags": [],
            "needs_background": "light"
          }
        },
        {
          "output_type": "display_data",
          "data": {
            "image/png": "[encoded data removed]",
            "text/plain": [
              "<Figure size 288x288 with 2 Axes>"
            ]
          },
          "metadata": {
            "tags": [],
            "needs_background": "light"
          }
        },
        {
          "output_type": "display_data",
          "data": {
            "image/png": "[encoded data removed]",
            "text/plain": [
              "<Figure size 288x288 with 2 Axes>"
            ]
          },
          "metadata": {
            "tags": [],
            "needs_background": "light"
          }
        },
        {
          "output_type": "display_data",
          "data": {
            "image/png": "[encoded data removed]",
            "text/plain": [
              "<Figure size 288x288 with 2 Axes>"
            ]
          },
          "metadata": {
            "tags": [],
            "needs_background": "light"
          }
        }
      ]
    },
    {
      "cell_type": "markdown",
      "metadata": {
        "id": "qnB3L0QNwtBS"
      },
      "source": [
        "**Conclusion**\n",
        "en el caso de los 10 splits\n",
        "el clasificador de la red neuronal tiene un 83%\n",
        "mientras que el clasificador del arbol de decisiones tiene un 81% por cual en este caso seria mejor una red neuronal. Tambien se da entender que hay mas casos de ataques de mordeduros de perros."
      ]
    }
  ]
}